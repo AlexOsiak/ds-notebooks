{
 "cells": [
  {
   "cell_type": "markdown",
   "metadata": {},
   "source": [
    "# Zajęcia 1 (część 1)\n",
    "\n",
    "Zakres:\n",
    "* Zapoznanie sie ze srodowiskiem pracy (GKE na GCP)\n",
    "* Operacje na obiektowym systemie plików (GCS)\n",
    "* Interaktywna analiza rozproszonych danych przy wykorzystaniu modułu Spark Core i Spark SQL\n",
    "* Wprowadzenie modułu pandas\n",
    "* Wizualizacje przy wykorzystaniu matplotlib oraz seaborn\n",
    "\n",
    "Języki:\n",
    "* bash, Python, SQL "
   ]
  },
  {
   "cell_type": "markdown",
   "metadata": {},
   "source": [
    "Krótka lista przydatnych poleceń bash: https://www.reddit.com/r/linux/comments/9rns12/some_linux_commands_cheatsheet/"
   ]
  },
  {
   "cell_type": "markdown",
   "metadata": {},
   "source": [
    "### Jupyter Notebook\n",
    "\n",
    "* Interaktywny notatnik dostepny poprzez przeglądarkę.\n",
    "* Służy do wpisywania poleceń w wybranych jezykach programowania oraz opis w tzw jezyku markdown.\n",
    "* Polecenia/opis wpisujemy do komórek. Komórki są wykonywane przez tzw. kernel (np Python w określonej wersji)\n",
    "* Działa w tryb edycji komórek + tryb wykonywania poleceń. (przejście poprzez ESC i ENTER)\n",
    "* Podstawowe skróty klawiaturowe: \n",
    "  * Esc/Enter\n",
    "  * strzalki\n",
    "  * ctrl-enter/shift-enter\n",
    "  * a/b/d\n",
    "  * y/m \n",
    "* Moze wykonywać polecenia powłoki (bash) !  %%bash\n",
    "* Notatnik zapisywany jest w formacie ipynb (IPythonNoteBook)\n",
    "* Kolejnosc uruchomienia komórek moze byc rozna.\n",
    "* Mozliwosc zatrzymania kernela i uruchomienia od nowa. \n",
    "\n",
    "Polecamy film: https://www.youtube.com/watch?v=HW29067qVWk\n",
    "\n",
    "Przykładowe komórki Pythonowe i Bashowe:"
   ]
  },
  {
   "cell_type": "code",
   "execution_count": 1,
   "metadata": {},
   "outputs": [
    {
     "name": "stdout",
     "output_type": "stream",
     "text": [
      "Hello tgambin!\n"
     ]
    }
   ],
   "source": [
    "import os\n",
    "user = os.environ.get('USER')\n",
    "msg = f\"Hello {user}!\"\n",
    "print (msg)"
   ]
  },
  {
   "cell_type": "code",
   "execution_count": 2,
   "metadata": {},
   "outputs": [
    {
     "name": "stdout",
     "output_type": "stream",
     "text": [
      "/home/jovyan/work/git/ds-notebooks/session_1\n"
     ]
    }
   ],
   "source": [
    "! pwd # pokaż aktualną scieżkę"
   ]
  },
  {
   "cell_type": "code",
   "execution_count": 3,
   "metadata": {},
   "outputs": [
    {
     "name": "stdout",
     "output_type": "stream",
     "text": [
      "{\n",
      " \"cells\": [\n",
      "  {\n",
      "   \"cell_type\": \"markdown\",\n",
      "   \"metadata\": {},\n",
      "   \"source\": [\n",
      "    \"# Zajęcia 1 (część 1)\\n\",\n",
      "    \"\\n\",\n",
      "    \"Zakres:\\n\",\n",
      "    \"* Zapoznanie sie ze srodowiskiem pracy (GKE na GCP)\\n\",\n",
      "--------------------\n",
      "   \"version\": \"3.7.12\"\n",
      "  },\n",
      "  \"notebook_test\": {\n",
      "   \"keytab_path\": \"/data/work/home/ds-lab-testuser1/ds-lab-testuser1.keytab\",\n",
      "   \"user\": \"ds-lab-testuser1\"\n",
      "  }\n",
      " },\n",
      " \"nbformat\": 4,\n",
      " \"nbformat_minor\": 4\n",
      "}\n"
     ]
    }
   ],
   "source": [
    "%%bash\n",
    "head 01_intro.ipynb\n",
    "echo \"--------------------\"\n",
    "tail 01_intro.ipynb"
   ]
  },
  {
   "cell_type": "markdown",
   "metadata": {},
   "source": [
    "## Kopiowanie danych do swojego katalogu domowego\n",
    "\n",
    "W katalogu `/mnt/data/datascience` znajduje sie plik który bedzie nam dzisiaj słuzyl do pracy. Należy go skopiować do swojego katalogu domowego. \n",
    "Dane pochodzą z https://gdac.broadinstitute.org/ i zawierają dane z badaniami nad mutacjami typu CNV w obrebie genu BRAC2.\n"
   ]
  },
  {
   "cell_type": "code",
   "execution_count": null,
   "metadata": {},
   "outputs": [],
   "source": [
    "%%bash\n",
    "mkdir -p ~/data     # stworz katalog data (i posrednie)\n",
    "cp /mnt/data/datascience/brca.txt ~/data  # skopiuj plik z lokalizacji do bieżącej lokalizacji\n",
    "ls -lah   ~/data       # wylistuj zawartość bieżącego katalogu"
   ]
  },
  {
   "cell_type": "code",
   "execution_count": null,
   "metadata": {},
   "outputs": [],
   "source": [
    "%%bash\n",
    "head ~/data/brca.txt   # pokaż początek pliku\n",
    "echo                   # pusta linia\n",
    "tail ~/data/brca.txt   # pokaż koniec pliku \n",
    "echo\n",
    "wc -l ~/data/brca.txt  # policz linie pliku"
   ]
  },
  {
   "cell_type": "markdown",
   "metadata": {},
   "source": [
    "# Środowisko Google Kubernetes Engine \n",
    "\n",
    "Logowanie kontem github. \n",
    "\n",
    "\n",
    "## Kubernetes\n",
    "\n",
    "Kubernetes (k8s) to otwarta platforma do koordynacji wysoko dostępnego klastra. \n",
    "* Umożliwia  deklaratywną konfigurację, automatyzację wdrażania, skalowanie i autoskalowanie rozwiązań.\n",
    "* Pozwala uruchamiać aplikacje/narzędzie bez przypisywania ich do konkretnej maszyny. Aplikacje muszą być niezależne od konkretnego serwera: muszą być skonteneryzowane.\n",
    "* Możliwe do uruchomienia na prywatnym centrum danych, infrastrukturze hybrydowej lub chmurze publicznej.\n",
    "\n",
    "\n",
    "**Klaster Kubernetes**  \n",
    "* **Węzeł sterujący (Master node)** koordynuje działanie klastra np. zlecanie uruchomienia aplikacji, utrzymywanie pożądanego stanu aplikacji, skalowanie aplikacji i instalowanie nowych wersji\n",
    "* **Węzeł roboczy (Worker node)** Na węzłach uruchamiane są aplikacje. Na każdym węźle działa agent zarządzający tym węzłem i komunikujący się z masterem Kubernetes (API). Węzeł zawiera także narzędzia do obsługi kontenerów\n",
    "\n",
    "**Pod** to grupa jednego/wielu kontenerów wraz ze wspólnymi zasobami (np. dysk). Pod tworzy \"wirtualney serwer\" i może zawierać różne kontenery aplikacji współdzielące zasoby i kontekst wykonawczy na tym samym węźle.\n",
    "* Pod jest uruchamiany na węźle roboczym. Węzeł jest maszyną roboczą, fizyczną lub wirtualną, w zależności od klastra. \n",
    "* Węzeł może zawierać wiele podów. \n",
    "* Kubernetes master automatycznie zleca uruchomienie podów na różnych węzłach w ramach klastra. Automatyczne zlecanie uruchomienia bierze pod uwagę zasoby dostępne na każdym z węzłów.\n",
    "\n",
    "![](../img/gke.png) \n",
    "\n",
    "\n",
    "## Wykorzystanie Google Cloud Storage\n",
    "\n",
    "#### Projekt\n",
    "* Wszystki dane przynależą do konkretnego projektu.\n",
    "* Do projektu mogą mieć dostęp użytkownicy. \n",
    "* Projekt ma zdefiniowane metody uwierzytelniające, rozliczenia, monitorowanie etc. \n",
    "#### Kubełek (bucket)\n",
    "* Kubełek (buckket) to kontener na pliki/obiekty. \n",
    "* Nazwa Bucketu musi być unikalna w skali całej usługi u wszystkich użytkowników (!) \n",
    "* Kubełków nie można zagnieżdzać\n",
    "* W kubełkach możemy tworzyć foldery i tam logicznie grupować pliki.\n",
    "* Kubełek wraz z zawartością może zostać udostępniony publicznie.\n",
    "* Kubełkowi nie można zmienić nazwy lub metadanych. Trzeba go usunąć i stworzyć ponownie.\n",
    "#### Obiekt \n",
    "* obiekty przechowywane w kubełkach \n",
    "* obiekty mają zawartość oraz metadane\n",
    "* obiekty są niemodyfikowalne \n",
    "\n",
    "Do operacji na Google Storage można wykorzystać narzędzie `gsutil`: \n",
    "\n",
    "##### Operacje na kubełkach\n",
    "* listowanie kubełków (buckets) - `ls`\n",
    "* tworzenie nowego kubełka - `mb`\n",
    "* usuwania kubełka - `rm`\n",
    "* listowanie zawartości kubełków - `ls` \n",
    "* udostępnianie - `iam`\n",
    "\n",
    "##### Operacje na obiektach\n",
    "* dodawania pliku do kubełka - `cp`\n",
    "* kopiowanie - `cp`\n",
    "* usuniecie z kubełka - `cp`\n",
    "* pobranie informacji o obiekcie - `stat`"
   ]
  },
  {
   "cell_type": "markdown",
   "metadata": {},
   "source": [
    "#### Operacje na kubełkach"
   ]
  },
  {
   "cell_type": "code",
   "execution_count": 4,
   "metadata": {},
   "outputs": [
    {
     "name": "stdout",
     "output_type": "stream",
     "text": [
      "gs://bdg-lab-agaszmurlo/\n",
      "gs://bdg-lab-kkulpa7/\n",
      "gs://bdg-lab-tgambin/\n",
      "gs://bdg-lab-tgambin1/\n",
      "gs://bigdata-datascience/\n",
      "gs://bucket-agaszmurlo-1/\n",
      "gs://bucket-kkulpa7/\n",
      "gs://lab-ds-infra/\n"
     ]
    }
   ],
   "source": [
    "! gsutil ls"
   ]
  },
  {
   "cell_type": "code",
   "execution_count": 5,
   "metadata": {},
   "outputs": [
    {
     "name": "stdout",
     "output_type": "stream",
     "text": [
      "tgambin\n"
     ]
    }
   ],
   "source": [
    "! echo $USER  # wyswietlenie nazwy uzytkownika"
   ]
  },
  {
   "cell_type": "code",
   "execution_count": 6,
   "metadata": {},
   "outputs": [
    {
     "name": "stdout",
     "output_type": "stream",
     "text": [
      "Creating gs://bdg-lab-tgambin/...\n",
      "ServiceException: 409 Bucket bdg-lab-tgambin already exists.\n"
     ]
    }
   ],
   "source": [
    "! gsutil mb gs://bdg-lab-$USER  # stworzenie bucketu"
   ]
  },
  {
   "cell_type": "code",
   "execution_count": 7,
   "metadata": {},
   "outputs": [
    {
     "name": "stdout",
     "output_type": "stream",
     "text": [
      "gs://bdg-lab-tgambin/survey_results_public.csv\n",
      "gs://bdg-lab-tgambin/survey/\n"
     ]
    }
   ],
   "source": [
    "! gsutil ls gs://bdg-lab-$USER "
   ]
  },
  {
   "cell_type": "code",
   "execution_count": 27,
   "metadata": {},
   "outputs": [
    {
     "name": "stdout",
     "output_type": "stream",
     "text": [
      "Copying file://brca.txt [Content-Type=text/plain]...\n",
      "/ [1 files][366.8 KiB/366.8 KiB]                                                \n",
      "Operation completed over 1 objects/366.8 KiB.                                    \n"
     ]
    }
   ],
   "source": [
    "#! gsutil cp brca.txt gs://bdg-lab-$USER/"
   ]
  },
  {
   "cell_type": "code",
   "execution_count": 8,
   "metadata": {},
   "outputs": [
    {
     "name": "stdout",
     "output_type": "stream",
     "text": [
      "189207776    gs://bdg-lab-tgambin\n"
     ]
    }
   ],
   "source": [
    "! gsutil du -s  gs://bdg-lab-$USER  # ile zajmuje przestrzeni?"
   ]
  },
  {
   "cell_type": "code",
   "execution_count": 9,
   "metadata": {},
   "outputs": [
    {
     "name": "stdout",
     "output_type": "stream",
     "text": [
      "gs://bdg-lab-tgambin/ :\n",
      "\tStorage class:\t\t\tSTANDARD\n",
      "\tLocation type:\t\t\tmulti-region\n",
      "\tLocation constraint:\t\tUS\n",
      "\tVersioning enabled:\t\tNone\n",
      "\tLogging configuration:\t\tNone\n",
      "\tWebsite configuration:\t\tNone\n",
      "\tCORS configuration: \t\tNone\n",
      "\tLifecycle configuration:\tNone\n",
      "\tRequester Pays enabled:\t\tNone\n",
      "\tLabels:\t\t\t\tNone\n",
      "\tDefault KMS key:\t\tNone\n",
      "\tTime created:\t\t\tWed, 15 Dec 2021 21:14:58 GMT\n",
      "\tTime updated:\t\t\tWed, 15 Dec 2021 21:14:58 GMT\n",
      "\tMetageneration:\t\t\t1\n",
      "\tBucket Policy Only enabled:\tFalse\n",
      "\tACL:\t\t\t\t\n",
      "\t  [\n",
      "\t    {\n",
      "\t      \"entity\": \"project-owners-9940977455\",\n",
      "\t      \"projectTeam\": {\n",
      "\t        \"projectNumber\": \"9940977455\",\n",
      "\t        \"team\": \"owners\"\n",
      "\t      },\n",
      "\t      \"role\": \"OWNER\"\n",
      "\t    },\n",
      "\t    {\n",
      "\t      \"entity\": \"project-editors-9940977455\",\n",
      "\t      \"projectTeam\": {\n",
      "\t        \"projectNumber\": \"9940977455\",\n",
      "\t        \"team\": \"editors\"\n",
      "\t      },\n",
      "\t      \"role\": \"OWNER\"\n",
      "\t    },\n",
      "\t    {\n",
      "\t      \"entity\": \"project-viewers-9940977455\",\n",
      "\t      \"projectTeam\": {\n",
      "\t        \"projectNumber\": \"9940977455\",\n",
      "\t        \"team\": \"viewers\"\n",
      "\t      },\n",
      "\t      \"role\": \"READER\"\n",
      "\t    }\n",
      "\t  ]\n",
      "\tDefault ACL:\t\t\t\n",
      "\t  [\n",
      "\t    {\n",
      "\t      \"entity\": \"project-owners-9940977455\",\n",
      "\t      \"projectTeam\": {\n",
      "\t        \"projectNumber\": \"9940977455\",\n",
      "\t        \"team\": \"owners\"\n",
      "\t      },\n",
      "\t      \"role\": \"OWNER\"\n",
      "\t    },\n",
      "\t    {\n",
      "\t      \"entity\": \"project-editors-9940977455\",\n",
      "\t      \"projectTeam\": {\n",
      "\t        \"projectNumber\": \"9940977455\",\n",
      "\t        \"team\": \"editors\"\n",
      "\t      },\n",
      "\t      \"role\": \"OWNER\"\n",
      "\t    },\n",
      "\t    {\n",
      "\t      \"entity\": \"project-viewers-9940977455\",\n",
      "\t      \"projectTeam\": {\n",
      "\t        \"projectNumber\": \"9940977455\",\n",
      "\t        \"team\": \"viewers\"\n",
      "\t      },\n",
      "\t      \"role\": \"READER\"\n",
      "\t    }\n",
      "\t  ]\n"
     ]
    }
   ],
   "source": [
    "! gsutil ls -L -b gs://bdg-lab-$USER  # listowanie zawartości "
   ]
  },
  {
   "cell_type": "markdown",
   "metadata": {},
   "source": [
    "#### Operacje na zawartości kubełków"
   ]
  },
  {
   "cell_type": "code",
   "execution_count": 10,
   "metadata": {},
   "outputs": [
    {
     "name": "stdout",
     "output_type": "stream",
     "text": [
      "gs://bdg-lab-tgambin/survey_results_public.csv\n",
      "gs://bdg-lab-tgambin/survey/:\n",
      "\n",
      "gs://bdg-lab-tgambin/survey/2020/:\n",
      "gs://bdg-lab-tgambin/survey/2020/survey_results_public.csv\n"
     ]
    }
   ],
   "source": [
    "! gsutil ls -r gs://bdg-lab-$USER  # listowanie zawartosci kubełka"
   ]
  },
  {
   "cell_type": "code",
   "execution_count": 11,
   "metadata": {},
   "outputs": [
    {
     "name": "stdout",
     "output_type": "stream",
     "text": [
      "Copying file:///home/jovyan/work/git/ds-notebooks/README.md [Content-Type=text/markdown]...\n",
      "/ [1 files][   14.0 B/   14.0 B]                                                \n",
      "Operation completed over 1 objects/14.0 B.                                       \n"
     ]
    }
   ],
   "source": [
    "! gsutil cp ~/work/git/ds-notebooks/README.md gs://bdg-lab-$USER  # upload obiektu do kubełka"
   ]
  },
  {
   "cell_type": "code",
   "execution_count": 12,
   "metadata": {},
   "outputs": [
    {
     "name": "stdout",
     "output_type": "stream",
     "text": [
      "gs://bdg-lab-tgambin/README.md\n",
      "gs://bdg-lab-tgambin/survey_results_public.csv\n",
      "gs://bdg-lab-tgambin/survey/:\n",
      "\n",
      "gs://bdg-lab-tgambin/survey/2020/:\n",
      "gs://bdg-lab-tgambin/survey/2020/survey_results_public.csv\n"
     ]
    }
   ],
   "source": [
    "! gsutil ls -r gs://bdg-lab-$USER # listowanie zawartości"
   ]
  },
  {
   "cell_type": "code",
   "execution_count": 13,
   "metadata": {},
   "outputs": [
    {
     "name": "stdout",
     "output_type": "stream",
     "text": [
      "{\n",
      "  \"bindings\": [\n",
      "    {\n",
      "      \"members\": [\n",
      "        \"projectEditor:bigdata-datascience\",\n",
      "        \"projectOwner:bigdata-datascience\"\n",
      "      ],\n",
      "      \"role\": \"roles/storage.legacyBucketOwner\"\n",
      "    },\n",
      "    {\n",
      "      \"members\": [\n",
      "        \"projectViewer:bigdata-datascience\"\n",
      "      ],\n",
      "      \"role\": \"roles/storage.legacyBucketReader\"\n",
      "    }\n",
      "  ],\n",
      "  \"etag\": \"CAE=\"\n",
      "}\n"
     ]
    }
   ],
   "source": [
    "! gsutil iam get gs://bdg-lab-$USER"
   ]
  },
  {
   "cell_type": "code",
   "execution_count": 14,
   "metadata": {},
   "outputs": [
    {
     "name": "stdout",
     "output_type": "stream",
     "text": [
      "gs://bdg-lab-tgambin/README.md:\n",
      "    Creation time:          Sat, 18 Dec 2021 10:29:10 GMT\n",
      "    Update time:            Sat, 18 Dec 2021 10:29:10 GMT\n",
      "    Storage class:          STANDARD\n",
      "    Content-Language:       en\n",
      "    Content-Length:         14\n",
      "    Content-Type:           text/markdown\n",
      "    Hash (crc32c):          e+o8YQ==\n",
      "    Hash (md5):             MxzbFtnEwBhVlFmJHMLZeQ==\n",
      "    ETag:                   CIjMl4KS7fQCEAE=\n",
      "    Generation:             1639823350031880\n",
      "    Metageneration:         1\n"
     ]
    }
   ],
   "source": [
    "! gsutil stat gs://bdg-lab-$USER/README.md # metadane obiektu w kubełku"
   ]
  },
  {
   "cell_type": "code",
   "execution_count": null,
   "metadata": {},
   "outputs": [],
   "source": [
    "! gsutil iam ch allUsers:objectViewer gs://bdg-lab-$USER # dodanie uprawnien do odczytu"
   ]
  },
  {
   "cell_type": "markdown",
   "metadata": {},
   "source": [
    "Po wykonaniu tego polecenia nasz kubełek staje się publiczny i możemy się do niego \n",
    "http://storage.googleapis.com/bucket-NAZWA_UZYTKOWNIKA. Zawartość pliku można odczytać poprzez http://storage.googleapis.com/bucket-NAZWA_UZYTKOWNIKA/NAZWA_OBIEKTU"
   ]
  },
  {
   "cell_type": "code",
   "execution_count": null,
   "metadata": {},
   "outputs": [],
   "source": [
    "! gsutil iam ch -d allUsers:objectViewer gs://bdg-lab-$USER # usuniecie uprawnien do odczytu"
   ]
  },
  {
   "cell_type": "markdown",
   "metadata": {},
   "source": [
    "Teraz można ponownie zweryfikowac możliwość publicznego odczytu danych z kubełka."
   ]
  },
  {
   "cell_type": "markdown",
   "metadata": {},
   "source": [
    "#### Przeniesienie do docelowego kubełka"
   ]
  },
  {
   "cell_type": "markdown",
   "metadata": {},
   "source": [
    "## <span style='background:yellow'> ZADANIE 1 </span>\n",
    "Wgraj plik brca.txt do kubełka `gs://bdg-lab-$USER`."
   ]
  },
  {
   "cell_type": "markdown",
   "metadata": {},
   "source": [
    "## <span style='background:yellow'> ZADANIE 2 </span>\n",
    "a) Utwórz plik zawierający aktualną date i godzinę. \n",
    "b) Udostępnij plik publicznie na google storage. "
   ]
  },
  {
   "cell_type": "markdown",
   "metadata": {},
   "source": [
    "### Pobranie pliku z powrotem na lokalny dysk"
   ]
  },
  {
   "cell_type": "code",
   "execution_count": null,
   "metadata": {},
   "outputs": [],
   "source": [
    "! gsutil cp gs://bdg-lab-$USER/brca.txt .  # gdzie sie zapisal ten plik?"
   ]
  },
  {
   "cell_type": "markdown",
   "metadata": {},
   "source": [
    "## Apache Spark\n",
    "\n",
    "* Apache Spark platforma ogólnego zastosowania, opensource, do przetwarzania duzych zbiorow danych.\n",
    "* Posiada  API dla języków programowania: Scala, Python i R. \n",
    "* Przetwarzanie w Spark przetwarzanie jest wykonywane w większości  wprost w pamięci operacyjnej.\n",
    "* Przeznaczenie: do uruchamiania  aplikacji i skryptów z wykorzystaniem uczenia maszynowego lub interaktywnych kwerend.\n",
    "* Spark ten wspiera SQL (typ DataFrames), przetwarzanie strumieniowe oraz przetwarzanie grafów.\n",
    "* Integracja z lokalną pamięci masową, rozproszonymi lub obiektowymi systemu plików.\n",
    "* Spark można uruchamić na pojedynczej maszynie na środowisku klastrowym, lub w chmurze. \n",
    "\n",
    "Zakres na dzisiejsze laboratorium:\n",
    "* stworzenie sesji Spark\n",
    "* zaczytanie danych z pliku tekstowego\n",
    "* kwerendy na danych\n",
    "\n",
    "Bedziemy korzystac z pliku ktory zapisalismy na GCS w pierwszej czesci cwiczenia."
   ]
  },
  {
   "cell_type": "code",
   "execution_count": 15,
   "metadata": {},
   "outputs": [
    {
     "name": "stdout",
     "output_type": "stream",
     "text": [
      "gs://bdg-lab-tgambin/README.md\n",
      "gs://bdg-lab-tgambin/survey_results_public.csv\n",
      "gs://bdg-lab-tgambin/survey/:\n",
      "\n",
      "gs://bdg-lab-tgambin/survey/2020/:\n",
      "gs://bdg-lab-tgambin/survey/2020/survey_results_public.csv\n"
     ]
    }
   ],
   "source": [
    "! gsutil ls -r gs://bdg-lab-$USER/"
   ]
  },
  {
   "cell_type": "markdown",
   "metadata": {},
   "source": [
    "### Przygotowanie sesji Sparkowej\n"
   ]
  },
  {
   "cell_type": "code",
   "execution_count": 16,
   "metadata": {},
   "outputs": [],
   "source": [
    "from pyspark.sql import SparkSession\n",
    "spark = SparkSession.builder \\\n",
    ".config(\"spark.executor.instances\", \"1\") \\\n",
    ".config(\"spark.executor.memory\", \"1g\") \\\n",
    ".getOrCreate()"
   ]
  },
  {
   "cell_type": "code",
   "execution_count": null,
   "metadata": {},
   "outputs": [],
   "source": [
    "spark.stop()"
   ]
  },
  {
   "cell_type": "code",
   "execution_count": 17,
   "metadata": {},
   "outputs": [],
   "source": [
    "from pyspark.sql import SparkSession\n",
    "spark = SparkSession.builder \\\n",
    ".config(\"spark.executor.instances\", \"1\") \\\n",
    ".config(\"spark.executor.memory\", \"1g\") \\\n",
    ".getOrCreate()"
   ]
  },
  {
   "cell_type": "markdown",
   "metadata": {},
   "source": [
    "### Ręczne utworzenie zbioru danych"
   ]
  },
  {
   "cell_type": "code",
   "execution_count": 18,
   "metadata": {},
   "outputs": [],
   "source": [
    "# stworzenie rozproszonego DF na podstawie podanej listy krotek \n",
    "df_users = spark.createDataFrame(\n",
    "    [(123, 'Jan Kowalski', 'jan@kowalski.pl'), \n",
    "     (124, 'Anna Nowak', 'anna@nowak.pl'), \n",
    "     (125, 'Janusz Kowalski', 'janusz@kowalski.pl'), \n",
    "     (126, 'Anita Nowak', 'anita@nowak.pl')])"
   ]
  },
  {
   "cell_type": "code",
   "execution_count": 19,
   "metadata": {},
   "outputs": [
    {
     "name": "stdout",
     "output_type": "stream",
     "text": [
      "+---+---------------+------------------+\n",
      "| _1|             _2|                _3|\n",
      "+---+---------------+------------------+\n",
      "|123|   Jan Kowalski|   jan@kowalski.pl|\n",
      "|124|     Anna Nowak|     anna@nowak.pl|\n",
      "|125|Janusz Kowalski|janusz@kowalski.pl|\n",
      "|126|    Anita Nowak|    anita@nowak.pl|\n",
      "+---+---------------+------------------+\n",
      "\n"
     ]
    }
   ],
   "source": [
    "df_users.show()"
   ]
  },
  {
   "cell_type": "code",
   "execution_count": 20,
   "metadata": {},
   "outputs": [
    {
     "name": "stdout",
     "output_type": "stream",
     "text": [
      "root\n",
      " |-- _1: long (nullable = true)\n",
      " |-- _2: string (nullable = true)\n",
      " |-- _3: string (nullable = true)\n",
      "\n"
     ]
    }
   ],
   "source": [
    "df_users.printSchema()"
   ]
  },
  {
   "cell_type": "code",
   "execution_count": 21,
   "metadata": {},
   "outputs": [],
   "source": [
    "df_users = spark.createDataFrame(\n",
    "    [(123, 'Jan Kowalski', 'jan@kowalski.pl'), \n",
    "     (124, 'Anna Nowak', 'anna@nowak.pl'), \n",
    "     (125, 'Janusz Kowalski', 'janusz@kowalski.pl'), \n",
    "     (126, 'Anita Nowak', 'anita@nowak.pl')],\n",
    "    schema='id int not null, name string, email string')"
   ]
  },
  {
   "cell_type": "code",
   "execution_count": 22,
   "metadata": {},
   "outputs": [
    {
     "name": "stdout",
     "output_type": "stream",
     "text": [
      "+---+---------------+------------------+\n",
      "| id|           name|             email|\n",
      "+---+---------------+------------------+\n",
      "|123|   Jan Kowalski|   jan@kowalski.pl|\n",
      "|124|     Anna Nowak|     anna@nowak.pl|\n",
      "|125|Janusz Kowalski|janusz@kowalski.pl|\n",
      "|126|    Anita Nowak|    anita@nowak.pl|\n",
      "+---+---------------+------------------+\n",
      "\n"
     ]
    }
   ],
   "source": [
    "df_users.show()"
   ]
  },
  {
   "cell_type": "code",
   "execution_count": 23,
   "metadata": {},
   "outputs": [
    {
     "name": "stdout",
     "output_type": "stream",
     "text": [
      "root\n",
      " |-- id: integer (nullable = false)\n",
      " |-- name: string (nullable = true)\n",
      " |-- email: string (nullable = true)\n",
      "\n"
     ]
    }
   ],
   "source": [
    "df_users.printSchema()"
   ]
  },
  {
   "cell_type": "markdown",
   "metadata": {},
   "source": [
    "\n",
    "### Wczytanie danych\n",
    "Zazwyczaj dane mamy przechowane na zewnątrz naszego notatnika (np. w pliku) i należy je odczytać."
   ]
  },
  {
   "cell_type": "code",
   "execution_count": 24,
   "metadata": {},
   "outputs": [
    {
     "name": "stdout",
     "output_type": "stream",
     "text": [
      "tgambin\n"
     ]
    }
   ],
   "source": [
    "import os\n",
    "user_name = os.environ.get('USER')\n",
    "print(user_name)"
   ]
  },
  {
   "cell_type": "code",
   "execution_count": 25,
   "metadata": {},
   "outputs": [],
   "source": [
    "input_path = f'gs://bdg-lab-{user_name}/brca.txt'"
   ]
  },
  {
   "cell_type": "code",
   "execution_count": 28,
   "metadata": {},
   "outputs": [],
   "source": [
    "df = spark.read.load(input_path, format=\"csv\", sep=\"\\t\", inferSchema=\"true\", header=\"true\")"
   ]
  },
  {
   "cell_type": "markdown",
   "metadata": {},
   "source": [
    "### Charakterystyka danych"
   ]
  },
  {
   "cell_type": "code",
   "execution_count": 29,
   "metadata": {},
   "outputs": [
    {
     "data": {
      "text/plain": [
       "pyspark.sql.dataframe.DataFrame"
      ]
     },
     "execution_count": 29,
     "metadata": {},
     "output_type": "execute_result"
    }
   ],
   "source": [
    "type (df)                 # jaki jest typ danych"
   ]
  },
  {
   "cell_type": "code",
   "execution_count": 30,
   "metadata": {},
   "outputs": [
    {
     "name": "stdout",
     "output_type": "stream",
     "text": [
      "== Physical Plan ==\n",
      "FileScan csv [Sample#54,Chromosome#55,Start#56,End#57,Num_Probes#58,Segment_Mean#59] Batched: false, DataFilters: [], Format: CSV, Location: InMemoryFileIndex[gs://bdg-lab-tgambin/brca.txt], PartitionFilters: [], PushedFilters: [], ReadSchema: struct<Sample:string,Chromosome:int,Start:int,End:int,Num_Probes:string,Segment_Mean:double>\n",
      "\n",
      "\n"
     ]
    }
   ],
   "source": [
    "df.explain()              # fizyczny plan wykonania"
   ]
  },
  {
   "cell_type": "code",
   "execution_count": 31,
   "metadata": {},
   "outputs": [
    {
     "name": "stdout",
     "output_type": "stream",
     "text": [
      "== Parsed Logical Plan ==\n",
      "Relation[Sample#54,Chromosome#55,Start#56,End#57,Num_Probes#58,Segment_Mean#59] csv\n",
      "\n",
      "== Analyzed Logical Plan ==\n",
      "Sample: string, Chromosome: int, Start: int, End: int, Num_Probes: string, Segment_Mean: double\n",
      "Relation[Sample#54,Chromosome#55,Start#56,End#57,Num_Probes#58,Segment_Mean#59] csv\n",
      "\n",
      "== Optimized Logical Plan ==\n",
      "Relation[Sample#54,Chromosome#55,Start#56,End#57,Num_Probes#58,Segment_Mean#59] csv\n",
      "\n",
      "== Physical Plan ==\n",
      "FileScan csv [Sample#54,Chromosome#55,Start#56,End#57,Num_Probes#58,Segment_Mean#59] Batched: false, DataFilters: [], Format: CSV, Location: InMemoryFileIndex[gs://bdg-lab-tgambin/brca.txt], PartitionFilters: [], PushedFilters: [], ReadSchema: struct<Sample:string,Chromosome:int,Start:int,End:int,Num_Probes:string,Segment_Mean:double>\n",
      "\n"
     ]
    }
   ],
   "source": [
    "df.explain(True)          # logiczny i fizyczny plan wykonania"
   ]
  },
  {
   "cell_type": "code",
   "execution_count": 32,
   "metadata": {},
   "outputs": [
    {
     "data": {
      "text/plain": [
       "1"
      ]
     },
     "execution_count": 32,
     "metadata": {},
     "output_type": "execute_result"
    }
   ],
   "source": [
    "df.rdd.getNumPartitions() # liczba partycji (bloków danych)"
   ]
  },
  {
   "cell_type": "code",
   "execution_count": 33,
   "metadata": {},
   "outputs": [
    {
     "name": "stdout",
     "output_type": "stream",
     "text": [
      "root\n",
      " |-- Sample: string (nullable = true)\n",
      " |-- Chromosome: integer (nullable = true)\n",
      " |-- Start: integer (nullable = true)\n",
      " |-- End: integer (nullable = true)\n",
      " |-- Num_Probes: string (nullable = true)\n",
      " |-- Segment_Mean: double (nullable = true)\n",
      "\n"
     ]
    }
   ],
   "source": [
    "df.printSchema()          # schemat danych"
   ]
  },
  {
   "cell_type": "code",
   "execution_count": 34,
   "metadata": {},
   "outputs": [
    {
     "data": {
      "text/plain": [
       "5298"
      ]
     },
     "execution_count": 34,
     "metadata": {},
     "output_type": "execute_result"
    }
   ],
   "source": [
    "df.count()                # wymiary (liczba wierszy)"
   ]
  },
  {
   "cell_type": "code",
   "execution_count": 35,
   "metadata": {},
   "outputs": [
    {
     "data": {
      "text/plain": [
       "6"
      ]
     },
     "execution_count": 35,
     "metadata": {},
     "output_type": "execute_result"
    }
   ],
   "source": [
    "len(df.columns)           # wymiary (liczba kolumn)"
   ]
  },
  {
   "cell_type": "code",
   "execution_count": 36,
   "metadata": {},
   "outputs": [
    {
     "name": "stdout",
     "output_type": "stream",
     "text": [
      "+-------+--------------------+------------------+-------------------+-------------------+----------+------------------+\n",
      "|summary|              Sample|        Chromosome|              Start|                End|Num_Probes|      Segment_Mean|\n",
      "+-------+--------------------+------------------+-------------------+-------------------+----------+------------------+\n",
      "|  count|                5298|              5298|               5298|               5298|      5298|              5298|\n",
      "|   mean|                null|11.312948282370705|5.464405806266516E7|7.557261170932427E7|      null|0.2103169573704153|\n",
      "| stddev|                null| 6.548797844563064|5.276515600857485E7|5.816178219098644E7|      null|0.8318029444477086|\n",
      "|    min|TCGA-A2-A0EU-01A-...|                 1|                  1|              99263|        NA| -3.49124544908987|\n",
      "|    max|TCGA-BH-A0W5-10A-...|                24|          249152065|          249240606|        NA|  4.25258455583762|\n",
      "+-------+--------------------+------------------+-------------------+-------------------+----------+------------------+\n",
      "\n"
     ]
    }
   ],
   "source": [
    "df.describe().show()      # pokaż podsumowanie danych w tabeli"
   ]
  },
  {
   "cell_type": "code",
   "execution_count": 37,
   "metadata": {},
   "outputs": [
    {
     "name": "stdout",
     "output_type": "stream",
     "text": [
      "+-------+------------------+\n",
      "|summary|        Chromosome|\n",
      "+-------+------------------+\n",
      "|  count|              5298|\n",
      "|   mean|11.312948282370705|\n",
      "| stddev| 6.548797844563064|\n",
      "|    min|                 1|\n",
      "|    max|                24|\n",
      "+-------+------------------+\n",
      "\n"
     ]
    }
   ],
   "source": [
    "df.describe(\"Chromosome\").show() # pokaż podsumowanie danych w kolumnie "
   ]
  },
  {
   "cell_type": "markdown",
   "metadata": {},
   "source": [
    "### Odczyt danych\n",
    "Z wykorzystaniem API DataFrame"
   ]
  },
  {
   "cell_type": "code",
   "execution_count": 38,
   "metadata": {},
   "outputs": [
    {
     "name": "stdout",
     "output_type": "stream",
     "text": [
      "+--------------------+----------+---------+---------+----------+-------------------+\n",
      "|              Sample|Chromosome|    Start|      End|Num_Probes|       Segment_Mean|\n",
      "+--------------------+----------+---------+---------+----------+-------------------+\n",
      "|TCGA-A2-A0EU-10A-...|         1|    10209|  2583075|        NA| -0.210121164888764|\n",
      "|TCGA-A2-A0EU-10A-...|         1|  2583076|249240606|        NA| -0.101789555120838|\n",
      "|TCGA-A2-A0EU-10A-...|         2|    10002|243189359|        NA| -0.337963741969504|\n",
      "|TCGA-A2-A0EU-10A-...|         3|    60175|162511435|        NA|-0.0850647472883194|\n",
      "|TCGA-A2-A0EU-10A-...|         3|162511436|162626067|        NA|   0.42309157125509|\n",
      "|TCGA-A2-A0EU-10A-...|         3|162626068|197962416|        NA|-0.0962225847981023|\n",
      "|TCGA-A2-A0EU-10A-...|         4|    69223|191014397|        NA|-0.0713350286479217|\n",
      "|TCGA-A2-A0EU-10A-...|         5|    11770|180905246|        NA|  0.176064461471459|\n",
      "|TCGA-A2-A0EU-10A-...|         6|    63815|171050932|        NA|-0.0895478602860139|\n",
      "|TCGA-A2-A0EU-10A-...|         7|    10128|159128640|        NA|-0.0402976850808555|\n",
      "|TCGA-A2-A0EU-10A-...|         8|    23380|  1238776|        NA|  -1.29512163093905|\n",
      "|TCGA-A2-A0EU-10A-...|         8|  1238777|  1246507|        NA|  0.484060599726464|\n",
      "|TCGA-A2-A0EU-10A-...|         8|  1246508|  1316313|        NA|  -1.34134440497319|\n",
      "|TCGA-A2-A0EU-10A-...|         8|  1316314|  3129168|        NA|  0.633479182382731|\n",
      "|TCGA-A2-A0EU-10A-...|         8|  3129169| 36339136|        NA|  -1.25800956803346|\n",
      "|TCGA-A2-A0EU-10A-...|         8| 36339137| 39701358|        NA|  0.614107286644963|\n",
      "|TCGA-A2-A0EU-10A-...|         8| 39701359| 40086720|        NA|  0.275345530494848|\n",
      "|TCGA-A2-A0EU-10A-...|         8| 40086721| 48901482|        NA|  0.656347604902809|\n",
      "|TCGA-A2-A0EU-10A-...|         8| 48901483| 48911575|        NA| -0.693717002645095|\n",
      "|TCGA-A2-A0EU-10A-...|         8| 48911576|146303846|        NA|   0.76122152958433|\n",
      "+--------------------+----------+---------+---------+----------+-------------------+\n",
      "only showing top 20 rows\n",
      "\n"
     ]
    }
   ],
   "source": [
    "df.show()                    # pokaż 20 wierszy danych "
   ]
  },
  {
   "cell_type": "code",
   "execution_count": 39,
   "metadata": {},
   "outputs": [
    {
     "name": "stdout",
     "output_type": "stream",
     "text": [
      "+----------------------------+----------+---------+---------+----------+-------------------+\n",
      "|Sample                      |Chromosome|Start    |End      |Num_Probes|Segment_Mean       |\n",
      "+----------------------------+----------+---------+---------+----------+-------------------+\n",
      "|TCGA-A2-A0EU-10A-01D-A060-02|1         |10209    |2583075  |NA        |-0.210121164888764 |\n",
      "|TCGA-A2-A0EU-10A-01D-A060-02|1         |2583076  |249240606|NA        |-0.101789555120838 |\n",
      "|TCGA-A2-A0EU-10A-01D-A060-02|2         |10002    |243189359|NA        |-0.337963741969504 |\n",
      "|TCGA-A2-A0EU-10A-01D-A060-02|3         |60175    |162511435|NA        |-0.0850647472883194|\n",
      "|TCGA-A2-A0EU-10A-01D-A060-02|3         |162511436|162626067|NA        |0.42309157125509   |\n",
      "|TCGA-A2-A0EU-10A-01D-A060-02|3         |162626068|197962416|NA        |-0.0962225847981023|\n",
      "|TCGA-A2-A0EU-10A-01D-A060-02|4         |69223    |191014397|NA        |-0.0713350286479217|\n",
      "|TCGA-A2-A0EU-10A-01D-A060-02|5         |11770    |180905246|NA        |0.176064461471459  |\n",
      "|TCGA-A2-A0EU-10A-01D-A060-02|6         |63815    |171050932|NA        |-0.0895478602860139|\n",
      "|TCGA-A2-A0EU-10A-01D-A060-02|7         |10128    |159128640|NA        |-0.0402976850808555|\n",
      "+----------------------------+----------+---------+---------+----------+-------------------+\n",
      "only showing top 10 rows\n",
      "\n"
     ]
    }
   ],
   "source": [
    "df.show(10, truncate=False) # pokaż 10 wierszy, nie skracaj danych"
   ]
  },
  {
   "cell_type": "code",
   "execution_count": null,
   "metadata": {},
   "outputs": [],
   "source": [
    "df.select(\"Sample\").show()  # pokaż tylko kolumne sample"
   ]
  },
  {
   "cell_type": "code",
   "execution_count": null,
   "metadata": {},
   "outputs": [],
   "source": [
    "df.select(\"Chromosome\", \"Start\", \"End\").show() # pokaż kolumny chromosome, start i end"
   ]
  },
  {
   "cell_type": "code",
   "execution_count": null,
   "metadata": {},
   "outputs": [],
   "source": [
    "df_chrom = df.select(df.Chromosome).distinct() # stworz nowy DF zawierajacy tylko unikalne wartosci chromosomow"
   ]
  },
  {
   "cell_type": "code",
   "execution_count": null,
   "metadata": {},
   "outputs": [],
   "source": [
    "df_chrom.count()                     # policz wiersze w nowym DF"
   ]
  },
  {
   "cell_type": "code",
   "execution_count": null,
   "metadata": {},
   "outputs": [],
   "source": [
    "df.filter(\"Chromosome > 21\").show() # pokaz dane spelniajace warunek (przy uzyciu filter)"
   ]
  },
  {
   "cell_type": "code",
   "execution_count": null,
   "metadata": {},
   "outputs": [],
   "source": [
    "df.where(\"Chromosome > 21\").show() # pokaz dane spelniajace warunek (przy uzyciu when)"
   ]
  },
  {
   "cell_type": "code",
   "execution_count": null,
   "metadata": {},
   "outputs": [],
   "source": [
    "df.filter(\"Chromosome > 21\").explain()  # pokaz plan wykonania"
   ]
  },
  {
   "cell_type": "code",
   "execution_count": null,
   "metadata": {},
   "outputs": [],
   "source": [
    "df.filter(\"Chromosome > 21 and Segment_Mean > 0\").show() # pokaz dane spelniajace warunki"
   ]
  },
  {
   "cell_type": "markdown",
   "metadata": {},
   "source": [
    "### Grupowanie i funkcje agregujące"
   ]
  },
  {
   "cell_type": "code",
   "execution_count": null,
   "metadata": {},
   "outputs": [],
   "source": [
    "from pyspark.sql.functions import *"
   ]
  },
  {
   "cell_type": "code",
   "execution_count": null,
   "metadata": {},
   "outputs": [],
   "source": [
    "df.groupBy(\"Chromosome\").count().show()   # dokonaj grupowania po chromosomie i policz rekordy w grupie"
   ]
  },
  {
   "cell_type": "code",
   "execution_count": null,
   "metadata": {},
   "outputs": [],
   "source": [
    "df.groupBy(\"Chromosome\").avg(\"Segment_Mean\").show() # dokonaj grupowania po chromosomie i policz srednia wartosc segment_mean w grupie"
   ]
  },
  {
   "cell_type": "code",
   "execution_count": null,
   "metadata": {},
   "outputs": [],
   "source": [
    "# pogrupuj dane wzgledem probki i chromosomu, policz rekordy w grupie\n",
    "df.groupBy(\"Sample\",\"Chromosome\").count().orderBy(asc(\"Sample\")).show()"
   ]
  },
  {
   "cell_type": "markdown",
   "metadata": {},
   "source": [
    "### Kolumny wyliczane"
   ]
  },
  {
   "cell_type": "code",
   "execution_count": null,
   "metadata": {},
   "outputs": [],
   "source": [
    "df.withColumn (\"Length\", col(\"End\") - col(\"Start\")).show() # dodaj kolumne dlugosc jako end - start"
   ]
  },
  {
   "cell_type": "code",
   "execution_count": null,
   "metadata": {},
   "outputs": [],
   "source": [
    "df.withColumn (\"Material\", lit(\"DNA\")).show()     # dodaj kolumne o stalej wartosci 'DNA'"
   ]
  },
  {
   "cell_type": "code",
   "execution_count": null,
   "metadata": {},
   "outputs": [],
   "source": [
    "df.withColumn (\"Chromosome2\", concat(lit(\"chr\"), col(\"Chromosome\"))).show() # dodaj kolumne z konkatencja"
   ]
  },
  {
   "cell_type": "code",
   "execution_count": null,
   "metadata": {},
   "outputs": [],
   "source": [
    "df.drop(\"Chromosome\").show()  # usun kolumne Chromosome. \n",
    "# Czy DF została pozbawiona kolumny na trwale?"
   ]
  },
  {
   "cell_type": "markdown",
   "metadata": {},
   "source": [
    "### Zapis wyników"
   ]
  },
  {
   "cell_type": "code",
   "execution_count": null,
   "metadata": {},
   "outputs": [],
   "source": [
    "df2 = df.withColumn (\"Chromosome2\", concat(lit(\"chr\"), col(\"Chromosome\")))  # dodaj kolumne z konkatenacja i zapisz do nowego DF"
   ]
  },
  {
   "cell_type": "code",
   "execution_count": null,
   "metadata": {},
   "outputs": [],
   "source": [
    "output_path = f'gs://bdg-lab-{user_name}/brca2.txt'\n",
    "df2.write.format(\"csv\").mode(\"overwrite\").save(output_path)"
   ]
  },
  {
   "cell_type": "code",
   "execution_count": null,
   "metadata": {},
   "outputs": [],
   "source": [
    "! gsutil ls gs://bdg-lab-$USER"
   ]
  },
  {
   "cell_type": "code",
   "execution_count": null,
   "metadata": {},
   "outputs": [],
   "source": [
    "!gsutil cat gs://bdg-lab-$USER/brca.txt | head"
   ]
  },
  {
   "cell_type": "code",
   "execution_count": 40,
   "metadata": {},
   "outputs": [],
   "source": [
    "spark.stop()"
   ]
  },
  {
   "cell_type": "markdown",
   "metadata": {},
   "source": [
    "## <span style='background:yellow'> ZADANIE 3</span>\n",
    "\n",
    "a) Ile jest unikalnych danych próbek w tym zbiorze danych?\n",
    "\n",
    "b) Pokaż nazwę próbki, numer chromosomu, początek i koniec segmentu dla segmentów występujących na chromosomie 21,22,23 i mających startową pozycję większą niż 10000000. \n",
    "\n",
    "c) Ile występuje wierszy dla każdej z próbki? Pokaż wynik z pełną nazwą próbki. Zapisz wynik do pliku na GCS"
   ]
  }
 ],
 "metadata": {
  "kernelspec": {
   "display_name": "datascience",
   "language": "python",
   "name": "datascience"
  },
  "language_info": {
   "codemirror_mode": {
    "name": "ipython",
    "version": 3
   },
   "file_extension": ".py",
   "mimetype": "text/x-python",
   "name": "python",
   "nbconvert_exporter": "python",
   "pygments_lexer": "ipython3",
   "version": "3.7.12"
  },
  "notebook_test": {
   "keytab_path": "/data/work/home/ds-lab-testuser1/ds-lab-testuser1.keytab",
   "user": "ds-lab-testuser1"
  }
 },
 "nbformat": 4,
 "nbformat_minor": 4
}
