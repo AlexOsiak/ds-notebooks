{
 "cells": [
  {
   "cell_type": "markdown",
   "metadata": {},
   "source": [
    "# Środowisko Google Kubernetes Engine \n",
    "\n",
    "Logowanie kontem github. \n",
    "\n",
    "## Wykorzystanie Google Storage\n",
    "\n",
    "\n",
    "#### Projekt\n",
    "* Wszystki dane przynależą do konkretnego projektu.\n",
    "* Do projektu mogą mieć dostęp użytkownicy. \n",
    "* Projekt ma zdefiniowane metody uwierzytelniające, rozliczenia, monitorowanie etc. \n",
    "#### Kubełek (bucket)\n",
    "* Kubełek (buckjet) to kontener na pliki/obiekty. \n",
    "* Nazwa Bucketu musi być unikalna w skali całej usługi u wszystkich użytkowników (!) \n",
    "* Kubełków nie można zagnieżdzać\n",
    "* W kubełkach możemy tworzyć foldery i tam logicznie grupować pliki.\n",
    "* Kubełek wraz z zawartością może zostać udostępniony publicznie.\n",
    "* Kubełkowi nie można zmienić nazwy lub metadanych. Trzeba go usunąć i stworzyć ponownie.\n",
    "#### Obiekt \n",
    "* obiekty przechowywane w kubełkach \n",
    "* obiekty mają zawartość oraz metadane\n",
    "* obiekty są niemodyfikowalne \n",
    "\n",
    "Do operacji na Google Storage można wykorzystać narzędzie `gsutil`: \n",
    "\n",
    "##### Operacje na kubełkach\n",
    "* listowanie kubełków (buckets) - `ls`\n",
    "* tworzenie nowego kubełka - `mb`\n",
    "* usuwania kubełka - `rm`\n",
    "* listowanie zawartości kubełków - `ls` \n",
    "* udostępnianie - `iam`\n",
    "\n",
    "##### Operacje na obiektach\n",
    "* dodawania pliku do kubełka - `cp`\n",
    "* kopiowanie między kubełkami - `cp`\n",
    "* usuniecie z kubełka - `cp`\n",
    "* pobranie informacji o obiekcie - `stat`\n"
   ]
  },
  {
   "cell_type": "markdown",
   "metadata": {},
   "source": [
    "#### Operacje na kubełkach"
   ]
  },
  {
   "cell_type": "code",
   "execution_count": 1,
   "metadata": {},
   "outputs": [
    {
     "name": "stdout",
     "output_type": "stream",
     "text": [
      "gs://bdg-lab-adys/\n",
      "gs://bdg-lab-akozlow4/\n",
      "gs://bdg-lab-alysik1/\n",
      "gs://bdg-lab-amysliw1/\n",
      "gs://bdg-lab-apeszek/\n",
      "gs://bdg-lab-aputowsk/\n",
      "gs://bdg-lab-astolins/\n",
      "gs://bdg-lab-bstypins/\n",
      "gs://bdg-lab-dbartos1/\n",
      "gs://bdg-lab-dszulc/\n",
      "gs://bdg-lab-grodewal/\n",
      "gs://bdg-lab-jczarnoc/\n",
      "gs://bdg-lab-kjastrze/\n",
      "gs://bdg-lab-kkrol2/\n",
      "gs://bdg-lab-kkromke/\n",
      "gs://bdg-lab-kpapaj/\n",
      "gs://bdg-lab-ksotomsk/\n",
      "gs://bdg-lab-ktora/\n",
      "gs://bdg-lab-kwojszk1/\n",
      "gs://bdg-lab-mdrabeck/\n",
      "gs://bdg-lab-mendzel/\n",
      "gs://bdg-lab-mkrajews/\n",
      "gs://bdg-lab-mlech/\n",
      "gs://bdg-lab-mlipiec/\n",
      "gs://bdg-lab-mnizinsk/\n",
      "gs://bdg-lab-mptaszek/\n",
      "gs://bdg-lab-mwietes1/\n",
      "gs://bdg-lab-mwronsk2/\n",
      "gs://bdg-lab-pkaluski/\n",
      "gs://bdg-lab-pkluczwa/\n",
      "gs://bdg-lab-pstanis2/\n",
      "gs://bdg-lab-pzolynia/\n",
      "gs://bdg-lab-rlasota/\n",
      "gs://bdg-lab-rsarna/\n",
      "gs://bdg-lab-schojnac/\n",
      "gs://bdg-lab-sgdaniec/\n",
      "gs://bdg-lab-skosek/\n",
      "gs://bdg-lab-srychlic/\n",
      "gs://ds_labs_agaszmurlo/\n",
      "gs://test_agaszmurlo/\n"
     ]
    }
   ],
   "source": [
    "! gsutil ls"
   ]
  },
  {
   "cell_type": "code",
   "execution_count": 6,
   "metadata": {},
   "outputs": [
    {
     "name": "stdout",
     "output_type": "stream",
     "text": [
      "ds-lab-testuser1\n"
     ]
    }
   ],
   "source": [
    "! echo $USER  # wyswietlenie nazwy uzytkownika"
   ]
  },
  {
   "cell_type": "code",
   "execution_count": 16,
   "metadata": {},
   "outputs": [
    {
     "name": "stdout",
     "output_type": "stream",
     "text": [
      "Creating gs://bucket-ds-lab-testuser1/...\n"
     ]
    }
   ],
   "source": [
    "! gsutil mb gs://bucket-$USER  # stworzenie bucketu"
   ]
  },
  {
   "cell_type": "code",
   "execution_count": 18,
   "metadata": {},
   "outputs": [
    {
     "name": "stdout",
     "output_type": "stream",
     "text": [
      "gs://bucket-ds-lab-testuser1/ :\n",
      "\tStorage class:\t\t\tSTANDARD\n",
      "\tLocation type:\t\t\tmulti-region\n",
      "\tLocation constraint:\t\tUS\n",
      "\tVersioning enabled:\t\tNone\n",
      "\tLogging configuration:\t\tNone\n",
      "\tWebsite configuration:\t\tNone\n",
      "\tCORS configuration: \t\tNone\n",
      "\tLifecycle configuration:\tNone\n",
      "\tRequester Pays enabled:\t\tNone\n",
      "\tLabels:\t\t\t\tNone\n",
      "\tDefault KMS key:\t\tNone\n",
      "\tTime created:\t\t\tThu, 10 Dec 2020 15:47:00 GMT\n",
      "\tTime updated:\t\t\tThu, 10 Dec 2020 15:47:00 GMT\n",
      "\tMetageneration:\t\t\t1\n",
      "\tBucket Policy Only enabled:\tFalse\n",
      "\tACL:\t\t\t\t\n",
      "\t  [\n",
      "\t    {\n",
      "\t      \"entity\": \"project-owners-826258521081\",\n",
      "\t      \"projectTeam\": {\n",
      "\t        \"projectNumber\": \"826258521081\",\n",
      "\t        \"team\": \"owners\"\n",
      "\t      },\n",
      "\t      \"role\": \"OWNER\"\n",
      "\t    },\n",
      "\t    {\n",
      "\t      \"entity\": \"project-editors-826258521081\",\n",
      "\t      \"projectTeam\": {\n",
      "\t        \"projectNumber\": \"826258521081\",\n",
      "\t        \"team\": \"editors\"\n",
      "\t      },\n",
      "\t      \"role\": \"OWNER\"\n",
      "\t    },\n",
      "\t    {\n",
      "\t      \"entity\": \"project-viewers-826258521081\",\n",
      "\t      \"projectTeam\": {\n",
      "\t        \"projectNumber\": \"826258521081\",\n",
      "\t        \"team\": \"viewers\"\n",
      "\t      },\n",
      "\t      \"role\": \"READER\"\n",
      "\t    }\n",
      "\t  ]\n",
      "\tDefault ACL:\t\t\t\n",
      "\t  [\n",
      "\t    {\n",
      "\t      \"entity\": \"project-owners-826258521081\",\n",
      "\t      \"projectTeam\": {\n",
      "\t        \"projectNumber\": \"826258521081\",\n",
      "\t        \"team\": \"owners\"\n",
      "\t      },\n",
      "\t      \"role\": \"OWNER\"\n",
      "\t    },\n",
      "\t    {\n",
      "\t      \"entity\": \"project-editors-826258521081\",\n",
      "\t      \"projectTeam\": {\n",
      "\t        \"projectNumber\": \"826258521081\",\n",
      "\t        \"team\": \"editors\"\n",
      "\t      },\n",
      "\t      \"role\": \"OWNER\"\n",
      "\t    },\n",
      "\t    {\n",
      "\t      \"entity\": \"project-viewers-826258521081\",\n",
      "\t      \"projectTeam\": {\n",
      "\t        \"projectNumber\": \"826258521081\",\n",
      "\t        \"team\": \"viewers\"\n",
      "\t      },\n",
      "\t      \"role\": \"READER\"\n",
      "\t    }\n",
      "\t  ]\n"
     ]
    }
   ],
   "source": [
    "! gsutil ls -L -b gs://bucket-$JUPYTERHUB_USER # listowanie zawartości "
   ]
  },
  {
   "cell_type": "code",
   "execution_count": 19,
   "metadata": {},
   "outputs": [
    {
     "name": "stdout",
     "output_type": "stream",
     "text": [
      "0            gs://bucket-ds-lab-testuser1\n"
     ]
    }
   ],
   "source": [
    "! gsutil du -s  gs://bucket-$USER # ile zajmuje przestrzeni?"
   ]
  },
  {
   "cell_type": "markdown",
   "metadata": {},
   "source": [
    "#### Operacje na zawartości kubełków"
   ]
  },
  {
   "cell_type": "code",
   "execution_count": 20,
   "metadata": {},
   "outputs": [],
   "source": [
    "! gsutil ls -r gs://bucket-$USER/ # listowanie zawartosci kubełka"
   ]
  },
  {
   "cell_type": "code",
   "execution_count": null,
   "metadata": {},
   "outputs": [],
   "source": [
    "! gsutil cp ~/ds-notebooks/README.md gs://bucket-$USER  # upload obiektu do kubełka"
   ]
  },
  {
   "cell_type": "code",
   "execution_count": 22,
   "metadata": {},
   "outputs": [],
   "source": [
    "! gsutil ls -r gs://bucket-$USER # listowanie zawartości"
   ]
  },
  {
   "cell_type": "code",
   "execution_count": null,
   "metadata": {},
   "outputs": [],
   "source": [
    "! gsutil stat gs://bucket-$USER/README.md # metadane obiekty w kubełku"
   ]
  },
  {
   "cell_type": "code",
   "execution_count": null,
   "metadata": {},
   "outputs": [],
   "source": [
    "! gsutil iam ch allUsers:objectViewer gs://bucket-$USER # dodanie uprawnien do odczytu"
   ]
  },
  {
   "cell_type": "markdown",
   "metadata": {},
   "source": [
    "Po wykonaniu tego polecenia nasz kubełek staje się publiczny i możemy się do niego \n",
    "http://storage.googleapis.com/bucket-NAZWA_UZYTKOWNIKA. Zawartość pliku można odczytać poprzez http://storage.googleapis.com/bucket-NAZWA_UZYTKOWNIKA/NAZWA_OBIEKTU"
   ]
  },
  {
   "cell_type": "code",
   "execution_count": null,
   "metadata": {},
   "outputs": [],
   "source": [
    "! gsutil iam ch -d allUsers:objectViewer gs://bucket-$USER # usuniecie uprawnien do odczytu"
   ]
  },
  {
   "cell_type": "markdown",
   "metadata": {},
   "source": [
    "Teraz można ponownie zweryfikowac możliwość publicznego odczytu danych z kubełka."
   ]
  },
  {
   "cell_type": "markdown",
   "metadata": {},
   "source": [
    "#### Przeniesienie do docelowego kubełka"
   ]
  },
  {
   "cell_type": "code",
   "execution_count": null,
   "metadata": {},
   "outputs": [],
   "source": [
    "%%bash\n",
    "gsutil cp -r gs://bucket-$USER gs://DOCELOWY_BUCKET\n",
    "gsutil rm -r gs://bucket-$USER"
   ]
  },
  {
   "cell_type": "markdown",
   "metadata": {},
   "source": [
    "## Apache Spark na GKE\n",
    "\n",
    "Podobnie jak na klastrze nawiążemy połączenie z sesją Spark i odczytamy dane z pliku udostępnionego na GCS."
   ]
  },
  {
   "cell_type": "code",
   "execution_count": 1,
   "metadata": {},
   "outputs": [
    {
     "name": "stdout",
     "output_type": "stream",
     "text": [
      "ds-lab-testuser1\n"
     ]
    }
   ],
   "source": [
    "import os\n",
    "user_name = os.environ.get('USER')\n",
    "print(user_name)"
   ]
  },
  {
   "cell_type": "code",
   "execution_count": null,
   "metadata": {},
   "outputs": [],
   "source": [
    "import random\n",
    "ui_port = random.randint(4000,4999)\n",
    "print(ui_port)"
   ]
  },
  {
   "cell_type": "code",
   "execution_count": null,
   "metadata": {},
   "outputs": [],
   "source": [
    "from pyspark.sql import SparkSession\n",
    "spark = SparkSession \\\n",
    ".builder \\\n",
    ".master('yarn-client') \\\n",
    ".config('spark.driver.memory','1g') \\\n",
    ".config('spark.executor.memory', '2g') \\\n",
    ".config('spark.ui.port',f'{ui_port}') \\\n",
    ".appName(f'ds-{user_name}') \\\n",
    ".getOrCreate()"
   ]
  },
  {
   "cell_type": "code",
   "execution_count": 4,
   "metadata": {},
   "outputs": [],
   "source": [
    "path = f'/user/{user_name}/external/data/brca.txt' # todo\n"
   ]
  },
  {
   "cell_type": "code",
   "execution_count": null,
   "metadata": {},
   "outputs": [],
   "source": [
    "df = spark.read.load(path, format=\"csv\", sep=\"\\t\", inferSchema=\"true\", header=\"true\")\n",
    "\n",
    "# df.registerTempTable(f\"{table_name}\")"
   ]
  },
  {
   "cell_type": "code",
   "execution_count": 2,
   "metadata": {},
   "outputs": [
    {
     "ename": "NameError",
     "evalue": "name 'df' is not defined",
     "output_type": "error",
     "traceback": [
      "\u001b[0;31m---------------------------------------------------------------------------\u001b[0m",
      "\u001b[0;31mNameError\u001b[0m                                 Traceback (most recent call last)",
      "\u001b[0;32m<ipython-input-2-4d57c0243a35>\u001b[0m in \u001b[0;36m<module>\u001b[0;34m\u001b[0m\n\u001b[0;32m----> 1\u001b[0;31m \u001b[0mtype\u001b[0m \u001b[0;34m(\u001b[0m\u001b[0mdf\u001b[0m\u001b[0;34m)\u001b[0m\u001b[0;34m\u001b[0m\u001b[0;34m\u001b[0m\u001b[0m\n\u001b[0m",
      "\u001b[0;31mNameError\u001b[0m: name 'df' is not defined"
     ]
    }
   ],
   "source": [
    "type (df)"
   ]
  },
  {
   "cell_type": "code",
   "execution_count": 3,
   "metadata": {},
   "outputs": [
    {
     "ename": "NameError",
     "evalue": "name 'df' is not defined",
     "output_type": "error",
     "traceback": [
      "\u001b[0;31m---------------------------------------------------------------------------\u001b[0m",
      "\u001b[0;31mNameError\u001b[0m                                 Traceback (most recent call last)",
      "\u001b[0;32m<ipython-input-3-09aa658342f2>\u001b[0m in \u001b[0;36m<module>\u001b[0;34m\u001b[0m\n\u001b[0;32m----> 1\u001b[0;31m \u001b[0mdf\u001b[0m\u001b[0;34m.\u001b[0m\u001b[0mprintSchema\u001b[0m\u001b[0;34m(\u001b[0m\u001b[0;34m)\u001b[0m\u001b[0;34m\u001b[0m\u001b[0;34m\u001b[0m\u001b[0m\n\u001b[0m",
      "\u001b[0;31mNameError\u001b[0m: name 'df' is not defined"
     ]
    }
   ],
   "source": [
    "df.printSchema()"
   ]
  },
  {
   "cell_type": "markdown",
   "metadata": {},
   "source": [
    "Powtórzenie operacji na DataFrame jak na klastrze Hadoop."
   ]
  }
 ],
 "metadata": {
  "kernelspec": {
   "display_name": "Python 3",
   "language": "python",
   "name": "python3"
  },
  "language_info": {
   "codemirror_mode": {
    "name": "ipython",
    "version": 3
   },
   "file_extension": ".py",
   "mimetype": "text/x-python",
   "name": "python",
   "nbconvert_exporter": "python",
   "pygments_lexer": "ipython3",
   "version": "3.6.10"
  },
  "notebook_test": {
   "keytab_path": "/data/work/home/ds-lab-testuser1/ds-lab-testuser1.keytab",
   "user": "ds-lab-testuser1"
  }
 },
 "nbformat": 4,
 "nbformat_minor": 4
}
