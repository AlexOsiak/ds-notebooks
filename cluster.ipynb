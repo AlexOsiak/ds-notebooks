{
 "cells": [
  {
   "cell_type": "markdown",
   "metadata": {},
   "source": [
    "# Zajęcia 1.\n",
    "\n",
    "Zakres:\n",
    "* zapoznanie sie z 2 srodowiskami pracy (klaster Hadoop oraz środowisko dostepne na GCP.\n",
    "* operacje na rozproszonym i obiektowym systemie plików (HDFS i GCS)\n",
    "* wykorzystanie platformy Apache Spark do interaktywnych kwerend na danych\n",
    "\n",
    "Języki:\n",
    "* bash, Python"
   ]
  },
  {
   "cell_type": "markdown",
   "metadata": {},
   "source": [
    "Krótka lista przydatnych poleceń bash: https://www.reddit.com/r/linux/comments/9rns12/some_linux_commands_cheatsheet/"
   ]
  },
  {
   "cell_type": "markdown",
   "metadata": {},
   "source": [
    "## Klaster Hadoop\n",
    "\n",
    "\n",
    "URL Jupyter na klastrze Instytutu Informatyki: https://zsibio.ii.pw.edu.pl/jupyter/\n",
    "\n",
    "### Architektura klastra\n",
    "* edge node: cdh00 (węzeł dostępowy)\n",
    "* HDFS:\n",
    "  * name node: cdh01\n",
    "  * data nodes: cdh02-cdh05\n",
    "* YARN\n",
    "  * resource manager: cdh01\n",
    "  * node managers: cdh02-cdh05\n",
    "* Dystrybucja Hadoop: Hortonworks\n",
    "* konsola administracyjna: http://cdh01:8080/\n",
    "\n",
    "\n",
    "### Jupyter Notebook\n",
    "\n",
    "* Interaktywny notatnik dostepny poprzez przeglądarkę.\n",
    "* Służy do wpisywania poleceń w wybranych jezykach programowania oraz opis w tzw jezyku markdown.\n",
    "* Polecenia/opis wpisujemy do komórek. Komórki są wykonywane przez tzw. kernel (np Python w określonej wersji)\n",
    "* Działa w tryb edycji komórek + tryb wykonywania poleceń. (przejście poprzez ESC i ENTER)\n",
    "* Podstawowe skróty klawiaturowe: \n",
    "  * Esc/Enter\n",
    "  * strzalki\n",
    "  * ctrl-enter/shift-enter\n",
    "  * a/b/d\n",
    "  * y/m \n",
    "* Moze wykonywać polecenia powłoki (bash) !  %%bash\n",
    "* Notatnik zapisywany jest w formacie ipynb (IPythonNoteBook)\n",
    "* Kolejnosc uruchomienia komórek moze byc rozna.\n",
    "* Mozliwosc zatrzymania kernela i uruchomienia od nowa. \n",
    "\n",
    "Polecamy film: https://www.youtube.com/watch?v=HW29067qVWk\n",
    "\n",
    "\n",
    "\n",
    "### Security\n",
    "Klaster jest zabezpieczony przed niepowolanym dostepem.\n",
    "Zazwyczaj dostep do klastra to: zalogowanie poprzez ssh do wezla dostepowego a potem wykonywanie polecen. \n",
    "My logujemy sie do Jupytera, w tle pobierany jest ticket dostepowy do odpowiednich zasobów klastra. Korzystajac ze zmiennych srodowiskowych i plikow konfiguracyjnych Jupyter wie jak polaczyc sie z menedzerem zasobow oraz namenodem HDFS.\n",
    "\n",
    "Dostep do Jupyter jest publiczny i po zajeciach mozna z niego korzystac."
   ]
  },
  {
   "cell_type": "markdown",
   "metadata": {},
   "source": [
    "## Kopiowanie danych do swojego katalogu domowego\n",
    "\n",
    "W katalogu `/data/local/datascience/data/` znajduje sie plik który bedzie nam dzisiaj słuzyl do pracy. Należy go skopiować do swojego katalogu domowego. \n",
    "Dane pochodzą z https://gdac.broadinstitute.org/ i zawierają dane z badaniami nad mutacjami typu CNV w obrebie genu BRAC2.\n"
   ]
  },
  {
   "cell_type": "code",
   "execution_count": 1,
   "metadata": {},
   "outputs": [
    {
     "name": "stdout",
     "output_type": "stream",
     "text": [
      "total 380K\n",
      "drwxr-x---  3 iagasz bdg-users 4.0K Dec  4 15:55 .\n",
      "drwx------ 31 iagasz bdg-users 4.0K Dec 11 23:10 ..\n",
      "-rw-r--r--  1 iagasz bdg-users 367K Dec 11 23:13 brca.txt\n",
      "drwxr-x---  2 iagasz bdg-users 4.0K Mar 29  2020 covid_19\n"
     ]
    }
   ],
   "source": [
    "%%bash\n",
    "cd                # przejdz do katalogu domowego\n",
    "mkdir -p data     # stworz katalog data (i posrednie)\n",
    "cd data           # przejdz do katalogu data \n",
    "cp /data/local/datascience/data/brca.txt .  # skopiuj plik z lokalizacji do bieżącej lokalizacji\n",
    "ls -lah           # wylistuj zawartość bieżącego katalogu\n"
   ]
  },
  {
   "cell_type": "code",
   "execution_count": 2,
   "metadata": {},
   "outputs": [
    {
     "name": "stdout",
     "output_type": "stream",
     "text": [
      "Sample\tChromosome\tStart\tEnd\tNum_Probes\tSegment_Mean\n",
      "TCGA-A2-A0EU-10A-01D-A060-02\t1\t10209\t2583075\tNA\t-0.210121164888764\n",
      "TCGA-A2-A0EU-10A-01D-A060-02\t1\t2583076\t249240606\tNA\t-0.101789555120838\n",
      "TCGA-A2-A0EU-10A-01D-A060-02\t2\t10002\t243189359\tNA\t-0.337963741969504\n",
      "TCGA-A2-A0EU-10A-01D-A060-02\t3\t60175\t162511435\tNA\t-0.0850647472883194\n",
      "TCGA-A2-A0EU-10A-01D-A060-02\t3\t162511436\t162626067\tNA\t0.42309157125509\n",
      "TCGA-A2-A0EU-10A-01D-A060-02\t3\t162626068\t197962416\tNA\t-0.0962225847981023\n",
      "TCGA-A2-A0EU-10A-01D-A060-02\t4\t69223\t191014397\tNA\t-0.0713350286479217\n",
      "TCGA-A2-A0EU-10A-01D-A060-02\t5\t11770\t180905246\tNA\t0.176064461471459\n",
      "TCGA-A2-A0EU-10A-01D-A060-02\t6\t63815\t171050932\tNA\t-0.0895478602860139\n",
      "\n",
      "TCGA-BH-A0W5-01A-11D-A106-02\t16\t60001\t35285758\tNA\t0.50100860888744\n",
      "TCGA-BH-A0W5-01A-11D-A106-02\t16\t46499754\t90294729\tNA\t-0.131450478937173\n",
      "TCGA-BH-A0W5-01A-11D-A106-02\t17\t1\t81195162\tNA\t-0.0320031758392927\n",
      "TCGA-BH-A0W5-01A-11D-A106-02\t18\t10064\t78017233\tNA\t-0.0384891054622891\n",
      "TCGA-BH-A0W5-01A-11D-A106-02\t19\t70880\t59118869\tNA\t-0.0331290909268956\n",
      "TCGA-BH-A0W5-01A-11D-A106-02\t20\t60001\t62965506\tNA\t0.179080603196728\n",
      "TCGA-BH-A0W5-01A-11D-A106-02\t21\t9422166\t48119869\tNA\t-0.0398595055330951\n",
      "TCGA-BH-A0W5-01A-11D-A106-02\t22\t16051206\t51244552\tNA\t-0.289806046243246\n",
      "TCGA-BH-A0W5-01A-11D-A106-02\t23\t2699503\t116067549\tNA\t-0.00890538436141014\n",
      "TCGA-BH-A0W5-01A-11D-A106-02\t24\t2649450\t28784074\tNA\t0.0191845962231001\n",
      "\n",
      "5299 /data/work/home/iagasz/data/brca.txt\n"
     ]
    }
   ],
   "source": [
    "%%bash\n",
    "head ~/data/brca.txt   # pokaż początek pliku\n",
    "echo                   # pusta linia\n",
    "tail ~/data/brca.txt   # pokaż koniec pliku \n",
    "echo\n",
    "wc -l ~/data/brca.txt  # policz linie pliku"
   ]
  },
  {
   "cell_type": "markdown",
   "metadata": {},
   "source": [
    "\n",
    "Do tej pory korzystalismy z lokalnego systemu plików do ktorego ma dostep maszyna na ktora sie zalogowalismy (cdh00). Teraz zaczniemy korzystac z rozproszonego systemu plikow.\n",
    "\n",
    "## HDFS\n",
    "\n",
    "* Dane są rozproszone na wielu serwerach i dzielone na bloki o ustalonym rozmiarze. \n",
    "* Bloki zostają rozdystrybuowane pomiędzy węzłami. Mogą być replikowane między węzłami.\n",
    "* Name Node - odpowiedzialny za koordynację, zarządzanie metadanymi plików i aktywny monitoring replikacji plików.\n",
    "* Data Node - węzeł składujący zawartość plików.\n",
    "* Dostęp do danych, poprzez interfejs commandline, lub API programistyczne\n",
    "\n",
    "Zakres na dzisiejszym lab:\n",
    "* zapis i odczyt danych z HDFS\n",
    "* manipulacje na plikach i podstawowe komendy\n",
    "\n",
    "Dla podstawowych polecen systemowych na plikach istnieja odpowiedniki polecen dla systemu HDFS\n",
    "* `ls` -> `hdfs dfs -ls`\n",
    "* `cp` -> `hdfs dfs -cp`\n",
    "* `mv` -> `hdfs dfs -mv`\n",
    "* `rm` -> `hdfs dfs -rm`\n",
    "\n",
    "Pełna lista poleceń znajduje się na www: https://hadoop.apache.org/docs/r2.4.1/hadoop-project-dist/hadoop-common/FileSystemShell.html\n",
    "\n",
    "### Listowanie swojego HOME na HDFS\n",
    "Każdy ma swoj katalog domowy na HDFS\n"
   ]
  },
  {
   "cell_type": "code",
   "execution_count": 3,
   "metadata": {},
   "outputs": [
    {
     "name": "stdout",
     "output_type": "stream",
     "text": [
      "Found 15 items\n",
      "drwx------   - iagasz hdfs           0 2020-05-22 02:00 .Trash\n",
      "drwxr-xr-x   - iagasz hdfs           0 2019-01-24 13:04 .hiveJars\n",
      "drwxr-xr-x   - iagasz hdfs           0 2020-05-29 09:05 .skein\n",
      "drwxr-xr-x   - iagasz hdfs           0 2020-06-11 09:19 .sparkStaging\n",
      "-rw-r--r--   2 iagasz hdfs 37944356001 2019-01-04 11:12 Homo_sapiens.GRCh38.dna.toplevel.fa\n",
      "-rw-r--r--   2 iagasz hdfs       33156 2019-01-21 12:36 chr1.slice.tgp.vcf.gz\n",
      "drwxr-xr-x   - iagasz hdfs           0 2020-03-29 14:17 data\n",
      "drwxr-xr-x   - iagasz hdfs           0 2019-12-03 17:56 e_coli\n",
      "drwxr-xr-x   - iagasz hdfs           0 2019-12-16 13:24 edugen\n",
      "drwxr-xr-x   - iagasz hdfs           0 2019-12-31 14:17 external\n",
      "drwxr-xr-x   - iagasz hdfs           0 2020-01-13 11:42 survey\n",
      "drwxr-xr-x   - iagasz hdfs           0 2020-01-26 13:27 survey2\n",
      "drwxr-xr-x   - iagasz hdfs           0 2019-02-15 12:12 tgp_subset\n",
      "drwxr-xr-x   - iagasz hdfs           0 2019-07-18 21:13 varia\n",
      "drwxr-xr-x   - iagasz hdfs           0 2019-11-12 13:18 vcf_test\n"
     ]
    }
   ],
   "source": [
    "! hdfs dfs -ls    # wylistuj zawartość katalogu domowego (HDFS)"
   ]
  },
  {
   "cell_type": "markdown",
   "metadata": {},
   "source": [
    "Swoj katalog mozna tez sprawdzic podajac sciezke bezwgledna od katalogu glownego"
   ]
  },
  {
   "cell_type": "code",
   "execution_count": 4,
   "metadata": {},
   "outputs": [
    {
     "name": "stdout",
     "output_type": "stream",
     "text": [
      "Found 15 items\n",
      "drwx------   - iagasz hdfs           0 2020-05-22 02:00 /user/iagasz/.Trash\n",
      "drwxr-xr-x   - iagasz hdfs           0 2019-01-24 13:04 /user/iagasz/.hiveJars\n",
      "drwxr-xr-x   - iagasz hdfs           0 2020-05-29 09:05 /user/iagasz/.skein\n",
      "drwxr-xr-x   - iagasz hdfs           0 2020-06-11 09:19 /user/iagasz/.sparkStaging\n",
      "-rw-r--r--   2 iagasz hdfs 37944356001 2019-01-04 11:12 /user/iagasz/Homo_sapiens.GRCh38.dna.toplevel.fa\n",
      "-rw-r--r--   2 iagasz hdfs       33156 2019-01-21 12:36 /user/iagasz/chr1.slice.tgp.vcf.gz\n",
      "drwxr-xr-x   - iagasz hdfs           0 2020-03-29 14:17 /user/iagasz/data\n",
      "drwxr-xr-x   - iagasz hdfs           0 2019-12-03 17:56 /user/iagasz/e_coli\n",
      "drwxr-xr-x   - iagasz hdfs           0 2019-12-16 13:24 /user/iagasz/edugen\n",
      "drwxr-xr-x   - iagasz hdfs           0 2019-12-31 14:17 /user/iagasz/external\n",
      "drwxr-xr-x   - iagasz hdfs           0 2020-01-13 11:42 /user/iagasz/survey\n",
      "drwxr-xr-x   - iagasz hdfs           0 2020-01-26 13:27 /user/iagasz/survey2\n",
      "drwxr-xr-x   - iagasz hdfs           0 2019-02-15 12:12 /user/iagasz/tgp_subset\n",
      "drwxr-xr-x   - iagasz hdfs           0 2019-07-18 21:13 /user/iagasz/varia\n",
      "drwxr-xr-x   - iagasz hdfs           0 2019-11-12 13:18 /user/iagasz/vcf_test\n"
     ]
    }
   ],
   "source": [
    "! hdfs dfs -ls /user/${USER} # wylistuj zawartość katalogu domowego (HDFS)"
   ]
  },
  {
   "cell_type": "markdown",
   "metadata": {},
   "source": [
    "Sprawdzmy katalog glowny na HDFS"
   ]
  },
  {
   "cell_type": "code",
   "execution_count": 6,
   "metadata": {},
   "outputs": [
    {
     "name": "stdout",
     "output_type": "stream",
     "text": [
      "Found 18 items\n",
      "drwxr-xr-x   - iagasz hdfs            0 2019-09-27 20:47 /OAP-DATA-DIR\n",
      "drwxr-xr-x   - hdfs   hdfs            0 2020-02-29 18:21 /apps\n",
      "drwxr-xr-x   - hdfs   hdfs            0 2019-01-02 21:36 /atsv2\n",
      "drwxr-xr-x   - iagasz hdfs            0 2019-01-08 15:09 /bdgz_platform\n",
      "drwxr-xr-x   - mapred hadoop          0 2020-05-16 22:49 /data\n",
      "drwxr-xr-x   - iagasz hdfs            0 2020-01-11 11:20 /edugen\n",
      "drwxr-xr-x   - hdfs   hdfs            0 2019-01-02 21:35 /hdp\n",
      "drwxrwxrwx   - iagasz hdfs            0 2019-08-02 16:07 /igap\n",
      "drwx------   - livy   hdfs            0 2019-11-10 18:30 /livy2-recovery\n",
      "drwxr-xr-x   - mapred hdfs            0 2019-01-02 21:35 /mapred\n",
      "drwxr-xr-x   - iagasz hdfs            0 2019-10-08 15:22 /oap-data-dir\n",
      "drwxr-xr-x   - iagasz hdfs            0 2019-07-29 15:30 /opt\n",
      "drwxr-xr-x   - hdfs   hdfs            0 2019-01-02 21:35 /ranger\n",
      "drwxr-xr-x   - hdfs   hdfs            0 2019-01-02 21:36 /services\n",
      "drwxrwxrwx   - spark  hadoop          0 2020-12-11 23:14 /spark2-history\n",
      "drwxrwxrwx   - hdfs   hdfs            0 2020-09-20 10:32 /tmp\n",
      "drwxr-xr-x   - hdfs   hdfs            0 2020-12-10 12:09 /user\n",
      "drwxr-xr-x   - hdfs   hdfs            0 2019-01-02 21:37 /warehouse\n"
     ]
    }
   ],
   "source": [
    "!hdfs dfs -ls / # wylistuj zawartość katalogu głównego (HDFS)"
   ]
  },
  {
   "cell_type": "markdown",
   "metadata": {},
   "source": [
    "### **** ZADANIE 1 ****\n",
    "Korzystajac z analogii do polecen znanych z lokalnego sytemu pliku oraz z dokumentacji polecen dla HDFS stworz w swoim katalogu domowym na HDFS katalog external a w nim katalog data. Sprawdz czy foldery istnieją."
   ]
  },
  {
   "cell_type": "markdown",
   "metadata": {},
   "source": [
    "### Dodanie pliku na HDFS"
   ]
  },
  {
   "cell_type": "code",
   "execution_count": 7,
   "metadata": {},
   "outputs": [
    {
     "name": "stdout",
     "output_type": "stream",
     "text": [
      "Found 1 items\n",
      "-rw-r--r--   2 iagasz hdfs     375612 2020-01-11 14:15 /user/iagasz/external/data/brca.txt\n"
     ]
    },
    {
     "name": "stderr",
     "output_type": "stream",
     "text": [
      "put: `/user/iagasz/external/data/brca.txt': File exists\n"
     ]
    }
   ],
   "source": [
    "%%bash\n",
    "hdfs dfs -put ~/data/brca.txt /user/${USER}/external/data  # dodaj plik do wskazanej lokalizacji na HDFS\n",
    "hdfs dfs -ls /user/${USER}/external/data                   # wylistuj zawartość katalogu na HDFS"
   ]
  },
  {
   "cell_type": "markdown",
   "metadata": {},
   "source": [
    "Jaki jest rozmiar pliku? Mozna skorzystac z przelacznika -h w ls"
   ]
  },
  {
   "cell_type": "code",
   "execution_count": 8,
   "metadata": {},
   "outputs": [
    {
     "name": "stdout",
     "output_type": "stream",
     "text": [
      "Found 1 items\n",
      "-rw-r--r--   2 iagasz hdfs    366.8 K 2020-01-11 14:15 /user/iagasz/external/data/brca.txt\n"
     ]
    }
   ],
   "source": [
    "!hdfs dfs -ls -h /user/${USER}/external/data   # rozmiar pliku "
   ]
  },
  {
   "cell_type": "markdown",
   "metadata": {},
   "source": [
    "A calkowita wielkosc pliku? Polecenie `du`"
   ]
  },
  {
   "cell_type": "code",
   "execution_count": 9,
   "metadata": {
    "scrolled": true
   },
   "outputs": [
    {
     "name": "stdout",
     "output_type": "stream",
     "text": [
      "366.8 K  733.6 K  /user/iagasz/external/data/brca.txt\n"
     ]
    }
   ],
   "source": [
    "!hdfs dfs -du -h /user/${USER}/external/data/brca.txt  # całkowita przestrzeń zajmowana przez plik (replikacja)"
   ]
  },
  {
   "cell_type": "markdown",
   "metadata": {},
   "source": [
    "Informacje o statusie pliku: polecenie `fsck`"
   ]
  },
  {
   "cell_type": "code",
   "execution_count": 10,
   "metadata": {},
   "outputs": [
    {
     "name": "stdout",
     "output_type": "stream",
     "text": [
      "Connecting to namenode via http://cdh01.cl.ii.pw.edu.pl:50070/fsck?ugi=iagasz&path=%2Fuser%2Fiagasz%2Fexternal%2Fdata%2Fbrca.txt\n",
      "FSCK started by iagasz (auth:KERBEROS_SSL) from /192.168.157.200 for path /user/iagasz/external/data/brca.txt at Fri Dec 11 23:15:21 CET 2020\n",
      "\n",
      "Status: HEALTHY\n",
      " Number of data-nodes:\t4\n",
      " Number of racks:\t\t1\n",
      " Total dirs:\t\t\t0\n",
      " Total symlinks:\t\t0\n",
      "\n",
      "Replicated Blocks:\n",
      " Total size:\t375612 B\n",
      " Total files:\t1\n",
      " Total blocks (validated):\t1 (avg. block size 375612 B)\n",
      " Minimally replicated blocks:\t1 (100.0 %)\n",
      " Over-replicated blocks:\t0 (0.0 %)\n",
      " Under-replicated blocks:\t0 (0.0 %)\n",
      " Mis-replicated blocks:\t\t0 (0.0 %)\n",
      " Default replication factor:\t2\n",
      " Average block replication:\t2.0\n",
      " Missing blocks:\t\t0\n",
      " Corrupt blocks:\t\t0\n",
      " Missing replicas:\t\t0 (0.0 %)\n",
      "\n",
      "Erasure Coded Block Groups:\n",
      " Total size:\t0 B\n",
      " Total files:\t0\n",
      " Total block groups (validated):\t0\n",
      " Minimally erasure-coded block groups:\t0\n",
      " Over-erasure-coded block groups:\t0\n",
      " Under-erasure-coded block groups:\t0\n",
      " Unsatisfactory placement block groups:\t0\n",
      " Average block group size:\t0.0\n",
      " Missing block groups:\t\t0\n",
      " Corrupt block groups:\t\t0\n",
      " Missing internal blocks:\t0\n",
      "FSCK ended at Fri Dec 11 23:15:21 CET 2020 in 2 milliseconds\n",
      "\n",
      "\n",
      "The filesystem under path '/user/iagasz/external/data/brca.txt' is HEALTHY\n"
     ]
    }
   ],
   "source": [
    "!hdfs fsck /user/${USER}/external/data/brca.txt"
   ]
  },
  {
   "cell_type": "markdown",
   "metadata": {},
   "source": [
    "Plik mozna rowniez odczytac bezposrednio z HDFS:"
   ]
  },
  {
   "cell_type": "code",
   "execution_count": 11,
   "metadata": {},
   "outputs": [
    {
     "name": "stdout",
     "output_type": "stream",
     "text": [
      "Sample\tChromosome\tStart\tEnd\tNum_Probes\tSegment_Mean\n",
      "TCGA-A2-A0EU-10A-01D-A060-02\t1\t10209\t2583075\tNA\t-0.210121164888764\n",
      "TCGA-A2-A0EU-10A-01D-A060-02\t1\t2583076\t249240606\tNA\t-0.101789555120838\n",
      "TCGA-A2-A0EU-10A-01D-A060-02\t2\t10002\t243189359\tNA\t-0.337963741969504\n",
      "TCGA-A2-A0EU-10A-01D-A060-02\t3\t60175\t162511435\tNA\t-0.0850647472883194\n",
      "TCGA-A2-A0EU-10A-01D-A060-02\t3\t162511436\t162626067\tNA\t0.42309157125509\n",
      "TCGA-A2-A0EU-10A-01D-A060-02\t3\t162626068\t197962416\tNA\t-0.0962225847981023\n",
      "TCGA-A2-A0EU-10A-01D-A060-02\t4\t69223\t191014397\tNA\t-0.0713350286479217\n",
      "TCGA-A2-A0EU-10A-01D-A060-02\t5\t11770\t180905246\tNA\t0.176064461471459\n",
      "TCGA-A2-A0EU-10A-01D-A060-02\t6\t63815\t171050932\tNA\t-0.0895478602860139\n",
      "TCGA-A2-A0EU-10A-01D-A060-02\t7\t10128\t159128640\tNA\t-0.0402976850808555\n",
      "TCGA-A2-A0EU-10A-01D-A060-02\t8\t23380\t1238776\tNA\t-1.29512163093905\n",
      "TCGA-A2-A0EU-10A-01D-A060-02\t8\t1238777\t1246507\tNA\t0.484060599726464\n",
      "TCGA-A2-A0EU-10A-01D-A060-02\t8\t1246508\t1316313\tNA\t-1.34134440497319\n",
      "TCGA-A2-A0EU-10A-01D-A060-02\t8\t1316314\t3129168\tNA\t0.633479182382731\n",
      "TC"
     ]
    }
   ],
   "source": [
    "! hdfs dfs -head /user/${USER}/external/data/brca.txt # odczytaj początek pliku"
   ]
  },
  {
   "cell_type": "markdown",
   "metadata": {},
   "source": [
    "### **** ZADANIE 2 ****\n",
    "W swoim katalogu domowym stworz katalog external/temp. Skopiuj do niego plik brca.txt "
   ]
  },
  {
   "cell_type": "markdown",
   "metadata": {},
   "source": [
    "### Usuwanie i odzyskiwanie plikow\n",
    "\n",
    "Do usuwanie sluzy polecenie -rm. Domyslnie usuwany plik jest przesuwany do kosza, skad mozna go odzyskac. \n"
   ]
  },
  {
   "cell_type": "code",
   "execution_count": 12,
   "metadata": {},
   "outputs": [
    {
     "name": "stdout",
     "output_type": "stream",
     "text": [
      "Found 1 items\n",
      "-rwxr--rwx   2 iagasz hdfs     375612 2019-12-31 14:25 /user/iagasz/external/temp/brca.txt1577798651863\n"
     ]
    },
    {
     "name": "stderr",
     "output_type": "stream",
     "text": [
      "rm: `/user/iagasz/external/temp/brca.txt': No such file or directory\n"
     ]
    }
   ],
   "source": [
    "%%bash\n",
    "hdfs dfs -rm /user/${USER}/external/temp/brca.txt # usun plik \n",
    "hdfs dfs -ls /user/${USER}/external/temp/          # wylistuj zawartość katalogu"
   ]
  },
  {
   "cell_type": "markdown",
   "metadata": {},
   "source": [
    "Dostalismy lokalizacje pliku z kosza, stamtad mozemy go skopiowac."
   ]
  },
  {
   "cell_type": "markdown",
   "metadata": {},
   "source": [
    "Do samodzielnej weryfikacji:\n",
    "* Przywrócenie pliku z kosza\n",
    "* Zachowanie polecenia rm przy podaniu parametru `skipTrash`.\n",
    "* modyfikacja uprawnień na katalogu poprzez polecenie `chmod`"
   ]
  },
  {
   "cell_type": "markdown",
   "metadata": {},
   "source": [
    "### Pobranie pliku z powrotem na lokalny dysk"
   ]
  },
  {
   "cell_type": "code",
   "execution_count": 13,
   "metadata": {},
   "outputs": [],
   "source": [
    "!hdfs dfs -get /user/${USER}/external/data/brca.txt brca2.txt"
   ]
  },
  {
   "cell_type": "markdown",
   "metadata": {},
   "source": [
    "## Apache Spark\n",
    "\n",
    "* Apache Spark platforma ogólnego zastosowania, opensource, do przetwarzania duzych zbiorow danych.\n",
    "* Posiada  API dla języków programowania: Scala, Python i R. \n",
    "* Przetwarzanie w Spark przetwarzanie jest wykonywane w większości  wprost w pamięci operacyjnej.\n",
    "* Przeznaczenie: do uruchamiania  aplikacji i skryptów z wykorzystaniem uczenia maszynowego lub interaktywnych kwerend.\n",
    "* Spark ten wspiera SQL (typ DataFrames), przetwarzanie strumieniowe oraz przetwarzanie grafów.\n",
    "* Integracja z lokalną pamięci masową, rozproszonymi lub obiektowymi systemu plików.\n",
    "* Spark można uruchamić na pojedynczej maszynie na środowisku klastrowym, lub w chmurze. \n",
    "\n",
    "Zakres na dzisiejsze laboratorium:\n",
    "* stworzenie sesji Spark\n",
    "* zaczytanie danych z pliku tekstowego\n",
    "* kwerendy na danych\n",
    "\n",
    "Na tych cwiczeniach bedziemy korzystac z pliku ktory zapisalismy na HDFS w pierwszej czesci cwicczenia."
   ]
  },
  {
   "cell_type": "code",
   "execution_count": 14,
   "metadata": {},
   "outputs": [
    {
     "name": "stdout",
     "output_type": "stream",
     "text": [
      "Found 1 items\n",
      "-rw-r--r--   2 iagasz hdfs     375612 2020-01-11 14:15 /user/iagasz/external/data/brca.txt\n"
     ]
    }
   ],
   "source": [
    "! hdfs dfs -ls /user/${USER}/external/data # Sprawdzmy czy plik znajduje się w katalogu"
   ]
  },
  {
   "cell_type": "markdown",
   "metadata": {},
   "source": [
    "### Przygotowanie sesji Sparkowej\n",
    "Losujemy numer portu. Domyslnie port na ktorym Spark wystawia swoj interfejs graficzny jest 4040. zeby nie zajmowac sobie wzajmnie numerow portu - wykonamy losowanie.\n",
    "Nazwa aplikacji będzie udekorowana nazwą użytkownika który ją uruchamia."
   ]
  },
  {
   "cell_type": "code",
   "execution_count": 15,
   "metadata": {},
   "outputs": [
    {
     "name": "stdout",
     "output_type": "stream",
     "text": [
      "iagasz\n"
     ]
    }
   ],
   "source": [
    "import os\n",
    "user_name = os.environ.get('USER')\n",
    "print(user_name)"
   ]
  },
  {
   "cell_type": "code",
   "execution_count": 16,
   "metadata": {},
   "outputs": [
    {
     "name": "stdout",
     "output_type": "stream",
     "text": [
      "4020\n"
     ]
    }
   ],
   "source": [
    "import random\n",
    "ui_port = random.randint(4000,4999)\n",
    "print(ui_port)"
   ]
  },
  {
   "cell_type": "code",
   "execution_count": 17,
   "metadata": {},
   "outputs": [],
   "source": [
    "from pyspark.sql import SparkSession\n",
    "spark = SparkSession \\\n",
    ".builder \\\n",
    ".master('yarn-client') \\\n",
    ".config('spark.driver.memory','1g') \\\n",
    ".config('spark.executor.memory', '1g') \\\n",
    ".config('spark.ui.port',f'{ui_port}') \\\n",
    ".appName(f'app-{user_name}') \\\n",
    ".getOrCreate()"
   ]
  },
  {
   "cell_type": "markdown",
   "metadata": {},
   "source": [
    "### Wczytanie danych\n"
   ]
  },
  {
   "cell_type": "code",
   "execution_count": 18,
   "metadata": {},
   "outputs": [],
   "source": [
    "path = f'/user/{user_name}/external/data/brca.txt'"
   ]
  },
  {
   "cell_type": "code",
   "execution_count": 19,
   "metadata": {},
   "outputs": [],
   "source": [
    "df = spark.read.load(path, format=\"csv\", sep=\"\\t\", inferSchema=\"true\", header=\"true\")"
   ]
  },
  {
   "cell_type": "markdown",
   "metadata": {},
   "source": [
    "### Charakterystyka danych"
   ]
  },
  {
   "cell_type": "code",
   "execution_count": 20,
   "metadata": {},
   "outputs": [
    {
     "data": {
      "text/plain": [
       "pyspark.sql.dataframe.DataFrame"
      ]
     },
     "execution_count": 20,
     "metadata": {},
     "output_type": "execute_result"
    }
   ],
   "source": [
    "type (df)                 # jaki jest typ danych"
   ]
  },
  {
   "cell_type": "code",
   "execution_count": 21,
   "metadata": {},
   "outputs": [
    {
     "name": "stdout",
     "output_type": "stream",
     "text": [
      "== Physical Plan ==\n",
      "*(1) FileScan csv [Sample#10,Chromosome#11,Start#12,End#13,Num_Probes#14,Segment_Mean#15] Batched: false, Format: CSV, Location: InMemoryFileIndex[hdfs://cdh01.cl.ii.pw.edu.pl:8020/user/iagasz/external/data/brca.txt], PartitionFilters: [], PushedFilters: [], ReadSchema: struct<Sample:string,Chromosome:int,Start:int,End:int,Num_Probes:string,Segment_Mean:double>\n"
     ]
    }
   ],
   "source": [
    "df.explain()              # fizyczny plan wykonania"
   ]
  },
  {
   "cell_type": "code",
   "execution_count": 22,
   "metadata": {},
   "outputs": [
    {
     "name": "stdout",
     "output_type": "stream",
     "text": [
      "== Parsed Logical Plan ==\n",
      "Relation[Sample#10,Chromosome#11,Start#12,End#13,Num_Probes#14,Segment_Mean#15] csv\n",
      "\n",
      "== Analyzed Logical Plan ==\n",
      "Sample: string, Chromosome: int, Start: int, End: int, Num_Probes: string, Segment_Mean: double\n",
      "Relation[Sample#10,Chromosome#11,Start#12,End#13,Num_Probes#14,Segment_Mean#15] csv\n",
      "\n",
      "== Optimized Logical Plan ==\n",
      "Relation[Sample#10,Chromosome#11,Start#12,End#13,Num_Probes#14,Segment_Mean#15] csv\n",
      "\n",
      "== Physical Plan ==\n",
      "*(1) FileScan csv [Sample#10,Chromosome#11,Start#12,End#13,Num_Probes#14,Segment_Mean#15] Batched: false, Format: CSV, Location: InMemoryFileIndex[hdfs://cdh01.cl.ii.pw.edu.pl:8020/user/iagasz/external/data/brca.txt], PartitionFilters: [], PushedFilters: [], ReadSchema: struct<Sample:string,Chromosome:int,Start:int,End:int,Num_Probes:string,Segment_Mean:double>\n"
     ]
    }
   ],
   "source": [
    "df.explain(True)          # logiczny i fizyczny plan wykonania"
   ]
  },
  {
   "cell_type": "code",
   "execution_count": 23,
   "metadata": {},
   "outputs": [
    {
     "data": {
      "text/plain": [
       "1"
      ]
     },
     "execution_count": 23,
     "metadata": {},
     "output_type": "execute_result"
    }
   ],
   "source": [
    "df.rdd.getNumPartitions() # liczba partycji (bloków danych)"
   ]
  },
  {
   "cell_type": "code",
   "execution_count": 24,
   "metadata": {},
   "outputs": [
    {
     "name": "stdout",
     "output_type": "stream",
     "text": [
      "root\n",
      " |-- Sample: string (nullable = true)\n",
      " |-- Chromosome: integer (nullable = true)\n",
      " |-- Start: integer (nullable = true)\n",
      " |-- End: integer (nullable = true)\n",
      " |-- Num_Probes: string (nullable = true)\n",
      " |-- Segment_Mean: double (nullable = true)\n",
      "\n"
     ]
    }
   ],
   "source": [
    "df.printSchema()          # schemat danych"
   ]
  },
  {
   "cell_type": "code",
   "execution_count": 25,
   "metadata": {},
   "outputs": [
    {
     "data": {
      "text/plain": [
       "5298"
      ]
     },
     "execution_count": 25,
     "metadata": {},
     "output_type": "execute_result"
    }
   ],
   "source": [
    "df.count()                # wymiary (liczba wierszy)"
   ]
  },
  {
   "cell_type": "code",
   "execution_count": 26,
   "metadata": {},
   "outputs": [
    {
     "data": {
      "text/plain": [
       "6"
      ]
     },
     "execution_count": 26,
     "metadata": {},
     "output_type": "execute_result"
    }
   ],
   "source": [
    "len(df.columns)           # wymiary (liczba kolumn)"
   ]
  },
  {
   "cell_type": "code",
   "execution_count": 27,
   "metadata": {},
   "outputs": [
    {
     "name": "stdout",
     "output_type": "stream",
     "text": [
      "+-------+--------------------+------------------+-------------------+-------------------+----------+------------------+\n",
      "|summary|              Sample|        Chromosome|              Start|                End|Num_Probes|      Segment_Mean|\n",
      "+-------+--------------------+------------------+-------------------+-------------------+----------+------------------+\n",
      "|  count|                5298|              5298|               5298|               5298|      5298|              5298|\n",
      "|   mean|                null|11.312948282370705|5.464405806266516E7|7.557261170932427E7|      null|0.2103169573704153|\n",
      "| stddev|                null| 6.548797844563064|5.276515600857485E7|5.816178219098644E7|      null|0.8318029444477086|\n",
      "|    min|TCGA-A2-A0EU-01A-...|                 1|                  1|              99263|        NA| -3.49124544908987|\n",
      "|    max|TCGA-BH-A0W5-10A-...|                24|          249152065|          249240606|        NA|  4.25258455583762|\n",
      "+-------+--------------------+------------------+-------------------+-------------------+----------+------------------+\n",
      "\n"
     ]
    }
   ],
   "source": [
    "df.describe().show()      # pokaż podsumowanie danych w tabeli"
   ]
  },
  {
   "cell_type": "code",
   "execution_count": 28,
   "metadata": {},
   "outputs": [
    {
     "name": "stdout",
     "output_type": "stream",
     "text": [
      "+-------+------------------+\n",
      "|summary|        Chromosome|\n",
      "+-------+------------------+\n",
      "|  count|              5298|\n",
      "|   mean|11.312948282370705|\n",
      "| stddev| 6.548797844563064|\n",
      "|    min|                 1|\n",
      "|    max|                24|\n",
      "+-------+------------------+\n",
      "\n"
     ]
    }
   ],
   "source": [
    "df.describe(\"Chromosome\").show() # pokaż podsumowanie danych w kolumnie "
   ]
  },
  {
   "cell_type": "markdown",
   "metadata": {},
   "source": [
    "### Odczyt danych"
   ]
  },
  {
   "cell_type": "code",
   "execution_count": 29,
   "metadata": {},
   "outputs": [
    {
     "name": "stdout",
     "output_type": "stream",
     "text": [
      "+--------------------+----------+---------+---------+----------+-------------------+\n",
      "|              Sample|Chromosome|    Start|      End|Num_Probes|       Segment_Mean|\n",
      "+--------------------+----------+---------+---------+----------+-------------------+\n",
      "|TCGA-A2-A0EU-10A-...|         1|    10209|  2583075|        NA| -0.210121164888764|\n",
      "|TCGA-A2-A0EU-10A-...|         1|  2583076|249240606|        NA| -0.101789555120838|\n",
      "|TCGA-A2-A0EU-10A-...|         2|    10002|243189359|        NA| -0.337963741969504|\n",
      "|TCGA-A2-A0EU-10A-...|         3|    60175|162511435|        NA|-0.0850647472883194|\n",
      "|TCGA-A2-A0EU-10A-...|         3|162511436|162626067|        NA|   0.42309157125509|\n",
      "|TCGA-A2-A0EU-10A-...|         3|162626068|197962416|        NA|-0.0962225847981023|\n",
      "|TCGA-A2-A0EU-10A-...|         4|    69223|191014397|        NA|-0.0713350286479217|\n",
      "|TCGA-A2-A0EU-10A-...|         5|    11770|180905246|        NA|  0.176064461471459|\n",
      "|TCGA-A2-A0EU-10A-...|         6|    63815|171050932|        NA|-0.0895478602860139|\n",
      "|TCGA-A2-A0EU-10A-...|         7|    10128|159128640|        NA|-0.0402976850808555|\n",
      "|TCGA-A2-A0EU-10A-...|         8|    23380|  1238776|        NA|  -1.29512163093905|\n",
      "|TCGA-A2-A0EU-10A-...|         8|  1238777|  1246507|        NA|  0.484060599726464|\n",
      "|TCGA-A2-A0EU-10A-...|         8|  1246508|  1316313|        NA|  -1.34134440497319|\n",
      "|TCGA-A2-A0EU-10A-...|         8|  1316314|  3129168|        NA|  0.633479182382731|\n",
      "|TCGA-A2-A0EU-10A-...|         8|  3129169| 36339136|        NA|  -1.25800956803346|\n",
      "|TCGA-A2-A0EU-10A-...|         8| 36339137| 39701358|        NA|  0.614107286644963|\n",
      "|TCGA-A2-A0EU-10A-...|         8| 39701359| 40086720|        NA|  0.275345530494848|\n",
      "|TCGA-A2-A0EU-10A-...|         8| 40086721| 48901482|        NA|  0.656347604902809|\n",
      "|TCGA-A2-A0EU-10A-...|         8| 48901483| 48911575|        NA| -0.693717002645095|\n",
      "|TCGA-A2-A0EU-10A-...|         8| 48911576|146303846|        NA|   0.76122152958433|\n",
      "+--------------------+----------+---------+---------+----------+-------------------+\n",
      "only showing top 20 rows\n",
      "\n"
     ]
    }
   ],
   "source": [
    "df.show()                    # pokaż 20 wierszy danych "
   ]
  },
  {
   "cell_type": "code",
   "execution_count": 30,
   "metadata": {},
   "outputs": [
    {
     "name": "stdout",
     "output_type": "stream",
     "text": [
      "+----------------------------+----------+---------+---------+----------+-------------------+\n",
      "|Sample                      |Chromosome|Start    |End      |Num_Probes|Segment_Mean       |\n",
      "+----------------------------+----------+---------+---------+----------+-------------------+\n",
      "|TCGA-A2-A0EU-10A-01D-A060-02|1         |10209    |2583075  |NA        |-0.210121164888764 |\n",
      "|TCGA-A2-A0EU-10A-01D-A060-02|1         |2583076  |249240606|NA        |-0.101789555120838 |\n",
      "|TCGA-A2-A0EU-10A-01D-A060-02|2         |10002    |243189359|NA        |-0.337963741969504 |\n",
      "|TCGA-A2-A0EU-10A-01D-A060-02|3         |60175    |162511435|NA        |-0.0850647472883194|\n",
      "|TCGA-A2-A0EU-10A-01D-A060-02|3         |162511436|162626067|NA        |0.42309157125509   |\n",
      "|TCGA-A2-A0EU-10A-01D-A060-02|3         |162626068|197962416|NA        |-0.0962225847981023|\n",
      "|TCGA-A2-A0EU-10A-01D-A060-02|4         |69223    |191014397|NA        |-0.0713350286479217|\n",
      "|TCGA-A2-A0EU-10A-01D-A060-02|5         |11770    |180905246|NA        |0.176064461471459  |\n",
      "|TCGA-A2-A0EU-10A-01D-A060-02|6         |63815    |171050932|NA        |-0.0895478602860139|\n",
      "|TCGA-A2-A0EU-10A-01D-A060-02|7         |10128    |159128640|NA        |-0.0402976850808555|\n",
      "+----------------------------+----------+---------+---------+----------+-------------------+\n",
      "only showing top 10 rows\n",
      "\n"
     ]
    }
   ],
   "source": [
    "df.show(10, truncate=False) # pokaż 10 wierszy, nie skracaj danych"
   ]
  },
  {
   "cell_type": "code",
   "execution_count": 31,
   "metadata": {},
   "outputs": [
    {
     "name": "stdout",
     "output_type": "stream",
     "text": [
      "+--------------------+\n",
      "|              Sample|\n",
      "+--------------------+\n",
      "|TCGA-A2-A0EU-10A-...|\n",
      "|TCGA-A2-A0EU-10A-...|\n",
      "|TCGA-A2-A0EU-10A-...|\n",
      "|TCGA-A2-A0EU-10A-...|\n",
      "|TCGA-A2-A0EU-10A-...|\n",
      "|TCGA-A2-A0EU-10A-...|\n",
      "|TCGA-A2-A0EU-10A-...|\n",
      "|TCGA-A2-A0EU-10A-...|\n",
      "|TCGA-A2-A0EU-10A-...|\n",
      "|TCGA-A2-A0EU-10A-...|\n",
      "|TCGA-A2-A0EU-10A-...|\n",
      "|TCGA-A2-A0EU-10A-...|\n",
      "|TCGA-A2-A0EU-10A-...|\n",
      "|TCGA-A2-A0EU-10A-...|\n",
      "|TCGA-A2-A0EU-10A-...|\n",
      "|TCGA-A2-A0EU-10A-...|\n",
      "|TCGA-A2-A0EU-10A-...|\n",
      "|TCGA-A2-A0EU-10A-...|\n",
      "|TCGA-A2-A0EU-10A-...|\n",
      "|TCGA-A2-A0EU-10A-...|\n",
      "+--------------------+\n",
      "only showing top 20 rows\n",
      "\n"
     ]
    }
   ],
   "source": [
    "df.select(\"Sample\").show()  # pokaż tylko kolumne sample"
   ]
  },
  {
   "cell_type": "code",
   "execution_count": 32,
   "metadata": {},
   "outputs": [
    {
     "name": "stdout",
     "output_type": "stream",
     "text": [
      "+----------+---------+---------+\n",
      "|Chromosome|    Start|      End|\n",
      "+----------+---------+---------+\n",
      "|         1|    10209|  2583075|\n",
      "|         1|  2583076|249240606|\n",
      "|         2|    10002|243189359|\n",
      "|         3|    60175|162511435|\n",
      "|         3|162511436|162626067|\n",
      "|         3|162626068|197962416|\n",
      "|         4|    69223|191014397|\n",
      "|         5|    11770|180905246|\n",
      "|         6|    63815|171050932|\n",
      "|         7|    10128|159128640|\n",
      "|         8|    23380|  1238776|\n",
      "|         8|  1238777|  1246507|\n",
      "|         8|  1246508|  1316313|\n",
      "|         8|  1316314|  3129168|\n",
      "|         8|  3129169| 36339136|\n",
      "|         8| 36339137| 39701358|\n",
      "|         8| 39701359| 40086720|\n",
      "|         8| 40086721| 48901482|\n",
      "|         8| 48901483| 48911575|\n",
      "|         8| 48911576|146303846|\n",
      "+----------+---------+---------+\n",
      "only showing top 20 rows\n",
      "\n"
     ]
    }
   ],
   "source": [
    "df.select(\"Chromosome\", \"Start\", \"End\").show() # pokaż kolumny chromosome, start i end"
   ]
  },
  {
   "cell_type": "code",
   "execution_count": 33,
   "metadata": {},
   "outputs": [],
   "source": [
    "df_chrom = df.select(df.Chromosome).distinct() # stworz nowy DF zawierajacy tylko unikalne wartosci chromosomow"
   ]
  },
  {
   "cell_type": "code",
   "execution_count": 34,
   "metadata": {},
   "outputs": [
    {
     "data": {
      "text/plain": [
       "24"
      ]
     },
     "execution_count": 34,
     "metadata": {},
     "output_type": "execute_result"
    }
   ],
   "source": [
    "df_chrom.count()                     # policz wiersze w nowym DF"
   ]
  },
  {
   "cell_type": "code",
   "execution_count": 37,
   "metadata": {},
   "outputs": [
    {
     "name": "stdout",
     "output_type": "stream",
     "text": [
      "+--------------------+----------+--------+---------+----------+--------------------+\n",
      "|              Sample|Chromosome|   Start|      End|Num_Probes|        Segment_Mean|\n",
      "+--------------------+----------+--------+---------+----------+--------------------+\n",
      "|TCGA-A2-A0EU-10A-...|        22|16972573| 51244552|        NA|  -0.459539615359244|\n",
      "|TCGA-A2-A0EU-10A-...|        23| 2699504|154930285|        NA|   0.194146928345973|\n",
      "|TCGA-A2-A0EU-01A-...|        22|16972573| 51244552|        NA|  -0.459539615359244|\n",
      "|TCGA-A2-A0EU-01A-...|        23| 2699504|154930285|        NA|   0.194146928345973|\n",
      "|TCGA-A7-A0D9-10A-...|        22|16051207| 51244552|        NA|  -0.226265745441125|\n",
      "|TCGA-A7-A0D9-10A-...|        23| 2699504|154930285|        NA|  -0.186598214609633|\n",
      "|TCGA-A7-A0D9-01A-...|        22|16051207| 51244552|        NA|  -0.226265745441125|\n",
      "|TCGA-A7-A0D9-01A-...|        23| 2699504|154930285|        NA|  -0.186598214609633|\n",
      "|TCGA-AO-A0JF-10A-...|        22|16051206| 51244552|        NA| 0.00439815550577645|\n",
      "|TCGA-AO-A0JF-10A-...|        23| 2699503|116067549|        NA|-0.00841581722379614|\n",
      "|TCGA-AO-A0JF-10A-...|        24| 2649450| 28784074|        NA|  0.0645300884703242|\n",
      "|TCGA-AO-A0JF-01A-...|        22|16051206| 51244552|        NA| 0.00439815550577645|\n",
      "|TCGA-AO-A0JF-01A-...|        23| 2699503|116067549|        NA|-0.00841581722379614|\n",
      "|TCGA-AO-A0JF-01A-...|        24| 2649450| 28784074|        NA|  0.0645300884703242|\n",
      "|TCGA-AO-A0JJ-10A-...|        22|16051206| 51244552|        NA|  0.0515996146611941|\n",
      "|TCGA-AO-A0JJ-10A-...|        23| 2699503| 79266838|        NA|  0.0427673990741247|\n",
      "|TCGA-AO-A0JJ-10A-...|        23|79266839|116067549|        NA|  -0.185449952559593|\n",
      "|TCGA-AO-A0JJ-01A-...|        22|16051206| 51244552|        NA|  0.0515996146611941|\n",
      "|TCGA-AO-A0JJ-01A-...|        23| 2699503| 79266838|        NA|  0.0427673990741247|\n",
      "|TCGA-AO-A0JJ-01A-...|        23|79266839|116067549|        NA|  -0.185449952559593|\n",
      "+--------------------+----------+--------+---------+----------+--------------------+\n",
      "only showing top 20 rows\n",
      "\n"
     ]
    }
   ],
   "source": [
    "df.filter(\"Chromosome > 21\").show() # pokaz dane spelniajace warunek"
   ]
  },
  {
   "cell_type": "code",
   "execution_count": 36,
   "metadata": {},
   "outputs": [
    {
     "name": "stdout",
     "output_type": "stream",
     "text": [
      "== Physical Plan ==\n",
      "*(1) Project [Sample#10, Chromosome#11, Start#12, End#13, Num_Probes#14, Segment_Mean#15]\n",
      "+- *(1) Filter (isnotnull(Chromosome#11) && (Chromosome#11 > 21))\n",
      "   +- *(1) FileScan csv [Sample#10,Chromosome#11,Start#12,End#13,Num_Probes#14,Segment_Mean#15] Batched: false, Format: CSV, Location: InMemoryFileIndex[hdfs://cdh01.cl.ii.pw.edu.pl:8020/user/iagasz/external/data/brca.txt], PartitionFilters: [], PushedFilters: [IsNotNull(Chromosome), GreaterThan(Chromosome,21)], ReadSchema: struct<Sample:string,Chromosome:int,Start:int,End:int,Num_Probes:string,Segment_Mean:double>\n"
     ]
    }
   ],
   "source": [
    "df.filter(\"Chromosome > 21\").explain()  # pokaz plan wykonania"
   ]
  },
  {
   "cell_type": "code",
   "execution_count": null,
   "metadata": {},
   "outputs": [],
   "source": [
    "df.filter(\"Chromosome > 21 and Segment_Mean > 0\").show() # pokaz dane spelniajace warunki"
   ]
  },
  {
   "cell_type": "markdown",
   "metadata": {},
   "source": [
    "### Grupowanie i funkcje agregujące"
   ]
  },
  {
   "cell_type": "code",
   "execution_count": 38,
   "metadata": {},
   "outputs": [
    {
     "name": "stdout",
     "output_type": "stream",
     "text": [
      "+----------+-----+\n",
      "|Chromosome|count|\n",
      "+----------+-----+\n",
      "|        12|  202|\n",
      "|        22|  198|\n",
      "|         1|  288|\n",
      "|        13|  120|\n",
      "|         6|  360|\n",
      "|        16|  222|\n",
      "|         3|  192|\n",
      "|        20|  388|\n",
      "|         5|  154|\n",
      "|        19|  136|\n",
      "|        15|  168|\n",
      "|         9|  106|\n",
      "|        17|  440|\n",
      "|         4|  254|\n",
      "|         8|  556|\n",
      "|        23|  104|\n",
      "|         7|  206|\n",
      "|        10|  130|\n",
      "|        24|    8|\n",
      "|        21|   96|\n",
      "+----------+-----+\n",
      "only showing top 20 rows\n",
      "\n"
     ]
    }
   ],
   "source": [
    "from pyspark.sql.functions import *\n",
    "\n",
    "df.groupBy(\"Chromosome\").count().show()   # dokonaj grupowania po chromosomie i policz rekordy w grupie"
   ]
  },
  {
   "cell_type": "code",
   "execution_count": 39,
   "metadata": {},
   "outputs": [
    {
     "name": "stdout",
     "output_type": "stream",
     "text": [
      "+----------+--------------------+\n",
      "|Chromosome|   avg(Segment_Mean)|\n",
      "+----------+--------------------+\n",
      "|        12|  0.2077776566255012|\n",
      "|        22|-0.19456341730306023|\n",
      "|         1|  0.2749020151479202|\n",
      "|        13|-0.25463230407325826|\n",
      "|         6| 0.09061564099997978|\n",
      "|        16|  0.3809825220709315|\n",
      "|         3|-0.02618245312138...|\n",
      "|        20|  0.7508020639591368|\n",
      "|         5|-0.04673099374977487|\n",
      "|        19| 0.08623909396694052|\n",
      "|        15|  0.6376181402358202|\n",
      "|         9|-0.12425313098378711|\n",
      "|        17| 0.24462914215524065|\n",
      "|         4|-0.01256776781881...|\n",
      "|         8|  0.6859064011278554|\n",
      "|        23|-0.07294761544611646|\n",
      "|         7| 0.17893302518868434|\n",
      "|        10| 0.11082919688598039|\n",
      "|        24| 0.07405671005723104|\n",
      "|        21|-0.06047204925394...|\n",
      "+----------+--------------------+\n",
      "only showing top 20 rows\n",
      "\n"
     ]
    }
   ],
   "source": [
    "df.groupBy(\"Chromosome\").avg(\"Segment_Mean\").show() # dokonaj grupowania po chromosomie i policz srednia wartosc segment_mean w grupie"
   ]
  },
  {
   "cell_type": "code",
   "execution_count": null,
   "metadata": {},
   "outputs": [],
   "source": [
    "# pogrupuj dane wzgledem probki i chromosomu, policz rekordy w grupie\n",
    "df.groupBy(\"Sample\",\"Chromosome\").count().orderBy(asc(\"Sample\")).show()"
   ]
  },
  {
   "cell_type": "markdown",
   "metadata": {},
   "source": [
    "### Kolumny wyliczane"
   ]
  },
  {
   "cell_type": "code",
   "execution_count": 42,
   "metadata": {},
   "outputs": [
    {
     "name": "stdout",
     "output_type": "stream",
     "text": [
      "+--------------------+----------+---------+---------+----------+-------------------+---------+\n",
      "|              Sample|Chromosome|    Start|      End|Num_Probes|       Segment_Mean|   Length|\n",
      "+--------------------+----------+---------+---------+----------+-------------------+---------+\n",
      "|TCGA-A2-A0EU-10A-...|         1|    10209|  2583075|        NA| -0.210121164888764|  2572866|\n",
      "|TCGA-A2-A0EU-10A-...|         1|  2583076|249240606|        NA| -0.101789555120838|246657530|\n",
      "|TCGA-A2-A0EU-10A-...|         2|    10002|243189359|        NA| -0.337963741969504|243179357|\n",
      "|TCGA-A2-A0EU-10A-...|         3|    60175|162511435|        NA|-0.0850647472883194|162451260|\n",
      "|TCGA-A2-A0EU-10A-...|         3|162511436|162626067|        NA|   0.42309157125509|   114631|\n",
      "|TCGA-A2-A0EU-10A-...|         3|162626068|197962416|        NA|-0.0962225847981023| 35336348|\n",
      "|TCGA-A2-A0EU-10A-...|         4|    69223|191014397|        NA|-0.0713350286479217|190945174|\n",
      "|TCGA-A2-A0EU-10A-...|         5|    11770|180905246|        NA|  0.176064461471459|180893476|\n",
      "|TCGA-A2-A0EU-10A-...|         6|    63815|171050932|        NA|-0.0895478602860139|170987117|\n",
      "|TCGA-A2-A0EU-10A-...|         7|    10128|159128640|        NA|-0.0402976850808555|159118512|\n",
      "|TCGA-A2-A0EU-10A-...|         8|    23380|  1238776|        NA|  -1.29512163093905|  1215396|\n",
      "|TCGA-A2-A0EU-10A-...|         8|  1238777|  1246507|        NA|  0.484060599726464|     7730|\n",
      "|TCGA-A2-A0EU-10A-...|         8|  1246508|  1316313|        NA|  -1.34134440497319|    69805|\n",
      "|TCGA-A2-A0EU-10A-...|         8|  1316314|  3129168|        NA|  0.633479182382731|  1812854|\n",
      "|TCGA-A2-A0EU-10A-...|         8|  3129169| 36339136|        NA|  -1.25800956803346| 33209967|\n",
      "|TCGA-A2-A0EU-10A-...|         8| 36339137| 39701358|        NA|  0.614107286644963|  3362221|\n",
      "|TCGA-A2-A0EU-10A-...|         8| 39701359| 40086720|        NA|  0.275345530494848|   385361|\n",
      "|TCGA-A2-A0EU-10A-...|         8| 40086721| 48901482|        NA|  0.656347604902809|  8814761|\n",
      "|TCGA-A2-A0EU-10A-...|         8| 48901483| 48911575|        NA| -0.693717002645095|    10092|\n",
      "|TCGA-A2-A0EU-10A-...|         8| 48911576|146303846|        NA|   0.76122152958433| 97392270|\n",
      "+--------------------+----------+---------+---------+----------+-------------------+---------+\n",
      "only showing top 20 rows\n",
      "\n"
     ]
    }
   ],
   "source": [
    "df.withColumn (\"Length\", col(\"End\") - col(\"Start\")).show() # dodaj kolumne dlugosc jako end - start"
   ]
  },
  {
   "cell_type": "code",
   "execution_count": 44,
   "metadata": {},
   "outputs": [
    {
     "name": "stdout",
     "output_type": "stream",
     "text": [
      "+--------------------+----------+---------+---------+----------+-------------------+--------+\n",
      "|              Sample|Chromosome|    Start|      End|Num_Probes|       Segment_Mean|Material|\n",
      "+--------------------+----------+---------+---------+----------+-------------------+--------+\n",
      "|TCGA-A2-A0EU-10A-...|         1|    10209|  2583075|        NA| -0.210121164888764|     DNA|\n",
      "|TCGA-A2-A0EU-10A-...|         1|  2583076|249240606|        NA| -0.101789555120838|     DNA|\n",
      "|TCGA-A2-A0EU-10A-...|         2|    10002|243189359|        NA| -0.337963741969504|     DNA|\n",
      "|TCGA-A2-A0EU-10A-...|         3|    60175|162511435|        NA|-0.0850647472883194|     DNA|\n",
      "|TCGA-A2-A0EU-10A-...|         3|162511436|162626067|        NA|   0.42309157125509|     DNA|\n",
      "|TCGA-A2-A0EU-10A-...|         3|162626068|197962416|        NA|-0.0962225847981023|     DNA|\n",
      "|TCGA-A2-A0EU-10A-...|         4|    69223|191014397|        NA|-0.0713350286479217|     DNA|\n",
      "|TCGA-A2-A0EU-10A-...|         5|    11770|180905246|        NA|  0.176064461471459|     DNA|\n",
      "|TCGA-A2-A0EU-10A-...|         6|    63815|171050932|        NA|-0.0895478602860139|     DNA|\n",
      "|TCGA-A2-A0EU-10A-...|         7|    10128|159128640|        NA|-0.0402976850808555|     DNA|\n",
      "|TCGA-A2-A0EU-10A-...|         8|    23380|  1238776|        NA|  -1.29512163093905|     DNA|\n",
      "|TCGA-A2-A0EU-10A-...|         8|  1238777|  1246507|        NA|  0.484060599726464|     DNA|\n",
      "|TCGA-A2-A0EU-10A-...|         8|  1246508|  1316313|        NA|  -1.34134440497319|     DNA|\n",
      "|TCGA-A2-A0EU-10A-...|         8|  1316314|  3129168|        NA|  0.633479182382731|     DNA|\n",
      "|TCGA-A2-A0EU-10A-...|         8|  3129169| 36339136|        NA|  -1.25800956803346|     DNA|\n",
      "|TCGA-A2-A0EU-10A-...|         8| 36339137| 39701358|        NA|  0.614107286644963|     DNA|\n",
      "|TCGA-A2-A0EU-10A-...|         8| 39701359| 40086720|        NA|  0.275345530494848|     DNA|\n",
      "|TCGA-A2-A0EU-10A-...|         8| 40086721| 48901482|        NA|  0.656347604902809|     DNA|\n",
      "|TCGA-A2-A0EU-10A-...|         8| 48901483| 48911575|        NA| -0.693717002645095|     DNA|\n",
      "|TCGA-A2-A0EU-10A-...|         8| 48911576|146303846|        NA|   0.76122152958433|     DNA|\n",
      "+--------------------+----------+---------+---------+----------+-------------------+--------+\n",
      "only showing top 20 rows\n",
      "\n"
     ]
    }
   ],
   "source": [
    "df.withColumn (\"Material\", lit(\"DNA\")).show()     # dodaj kolumne o stalej wartosci 'DNA'"
   ]
  },
  {
   "cell_type": "code",
   "execution_count": 45,
   "metadata": {},
   "outputs": [
    {
     "name": "stdout",
     "output_type": "stream",
     "text": [
      "+--------------------+----------+---------+---------+----------+-------------------+-----------+\n",
      "|              Sample|Chromosome|    Start|      End|Num_Probes|       Segment_Mean|Chromosome2|\n",
      "+--------------------+----------+---------+---------+----------+-------------------+-----------+\n",
      "|TCGA-A2-A0EU-10A-...|         1|    10209|  2583075|        NA| -0.210121164888764|       chr1|\n",
      "|TCGA-A2-A0EU-10A-...|         1|  2583076|249240606|        NA| -0.101789555120838|       chr1|\n",
      "|TCGA-A2-A0EU-10A-...|         2|    10002|243189359|        NA| -0.337963741969504|       chr2|\n",
      "|TCGA-A2-A0EU-10A-...|         3|    60175|162511435|        NA|-0.0850647472883194|       chr3|\n",
      "|TCGA-A2-A0EU-10A-...|         3|162511436|162626067|        NA|   0.42309157125509|       chr3|\n",
      "|TCGA-A2-A0EU-10A-...|         3|162626068|197962416|        NA|-0.0962225847981023|       chr3|\n",
      "|TCGA-A2-A0EU-10A-...|         4|    69223|191014397|        NA|-0.0713350286479217|       chr4|\n",
      "|TCGA-A2-A0EU-10A-...|         5|    11770|180905246|        NA|  0.176064461471459|       chr5|\n",
      "|TCGA-A2-A0EU-10A-...|         6|    63815|171050932|        NA|-0.0895478602860139|       chr6|\n",
      "|TCGA-A2-A0EU-10A-...|         7|    10128|159128640|        NA|-0.0402976850808555|       chr7|\n",
      "|TCGA-A2-A0EU-10A-...|         8|    23380|  1238776|        NA|  -1.29512163093905|       chr8|\n",
      "|TCGA-A2-A0EU-10A-...|         8|  1238777|  1246507|        NA|  0.484060599726464|       chr8|\n",
      "|TCGA-A2-A0EU-10A-...|         8|  1246508|  1316313|        NA|  -1.34134440497319|       chr8|\n",
      "|TCGA-A2-A0EU-10A-...|         8|  1316314|  3129168|        NA|  0.633479182382731|       chr8|\n",
      "|TCGA-A2-A0EU-10A-...|         8|  3129169| 36339136|        NA|  -1.25800956803346|       chr8|\n",
      "|TCGA-A2-A0EU-10A-...|         8| 36339137| 39701358|        NA|  0.614107286644963|       chr8|\n",
      "|TCGA-A2-A0EU-10A-...|         8| 39701359| 40086720|        NA|  0.275345530494848|       chr8|\n",
      "|TCGA-A2-A0EU-10A-...|         8| 40086721| 48901482|        NA|  0.656347604902809|       chr8|\n",
      "|TCGA-A2-A0EU-10A-...|         8| 48901483| 48911575|        NA| -0.693717002645095|       chr8|\n",
      "|TCGA-A2-A0EU-10A-...|         8| 48911576|146303846|        NA|   0.76122152958433|       chr8|\n",
      "+--------------------+----------+---------+---------+----------+-------------------+-----------+\n",
      "only showing top 20 rows\n",
      "\n"
     ]
    }
   ],
   "source": [
    "df.withColumn (\"Chromosome2\", concat(lit(\"chr\"), col(\"Chromosome\"))).show() # dodaj kolumne z konkatencja"
   ]
  },
  {
   "cell_type": "code",
   "execution_count": 46,
   "metadata": {},
   "outputs": [
    {
     "name": "stdout",
     "output_type": "stream",
     "text": [
      "+--------------------+---------+---------+----------+-------------------+\n",
      "|              Sample|    Start|      End|Num_Probes|       Segment_Mean|\n",
      "+--------------------+---------+---------+----------+-------------------+\n",
      "|TCGA-A2-A0EU-10A-...|    10209|  2583075|        NA| -0.210121164888764|\n",
      "|TCGA-A2-A0EU-10A-...|  2583076|249240606|        NA| -0.101789555120838|\n",
      "|TCGA-A2-A0EU-10A-...|    10002|243189359|        NA| -0.337963741969504|\n",
      "|TCGA-A2-A0EU-10A-...|    60175|162511435|        NA|-0.0850647472883194|\n",
      "|TCGA-A2-A0EU-10A-...|162511436|162626067|        NA|   0.42309157125509|\n",
      "|TCGA-A2-A0EU-10A-...|162626068|197962416|        NA|-0.0962225847981023|\n",
      "|TCGA-A2-A0EU-10A-...|    69223|191014397|        NA|-0.0713350286479217|\n",
      "|TCGA-A2-A0EU-10A-...|    11770|180905246|        NA|  0.176064461471459|\n",
      "|TCGA-A2-A0EU-10A-...|    63815|171050932|        NA|-0.0895478602860139|\n",
      "|TCGA-A2-A0EU-10A-...|    10128|159128640|        NA|-0.0402976850808555|\n",
      "|TCGA-A2-A0EU-10A-...|    23380|  1238776|        NA|  -1.29512163093905|\n",
      "|TCGA-A2-A0EU-10A-...|  1238777|  1246507|        NA|  0.484060599726464|\n",
      "|TCGA-A2-A0EU-10A-...|  1246508|  1316313|        NA|  -1.34134440497319|\n",
      "|TCGA-A2-A0EU-10A-...|  1316314|  3129168|        NA|  0.633479182382731|\n",
      "|TCGA-A2-A0EU-10A-...|  3129169| 36339136|        NA|  -1.25800956803346|\n",
      "|TCGA-A2-A0EU-10A-...| 36339137| 39701358|        NA|  0.614107286644963|\n",
      "|TCGA-A2-A0EU-10A-...| 39701359| 40086720|        NA|  0.275345530494848|\n",
      "|TCGA-A2-A0EU-10A-...| 40086721| 48901482|        NA|  0.656347604902809|\n",
      "|TCGA-A2-A0EU-10A-...| 48901483| 48911575|        NA| -0.693717002645095|\n",
      "|TCGA-A2-A0EU-10A-...| 48911576|146303846|        NA|   0.76122152958433|\n",
      "+--------------------+---------+---------+----------+-------------------+\n",
      "only showing top 20 rows\n",
      "\n"
     ]
    }
   ],
   "source": [
    "df.drop(\"Chromosome\").show()  # usun kolumne Chromosome. \n",
    "# Czy DF została pozbawiona kolumny na trwale?"
   ]
  },
  {
   "cell_type": "markdown",
   "metadata": {},
   "source": [
    "### **** Zadanie 3 *****\n",
    "\n",
    "a) Ile jest unikalnych danych próbek w tym zbiorze danych?\n",
    "\n",
    "b) Pokaż nazwę próbki, numer chromosomu, początek i koniec segmentu dla segmentów występujących na chromosomie 21,22,23 i mających startową pozycję większą niż 10000000. \n",
    "\n",
    "c) Ile występuje wierszy dla każdej z próbki? Pokaż wynik z pełną nazwą próbki."
   ]
  },
  {
   "cell_type": "markdown",
   "metadata": {},
   "source": [
    "#### Przykładowe pobranie danych z DataFrame do zmiennej"
   ]
  },
  {
   "cell_type": "code",
   "execution_count": 57,
   "metadata": {},
   "outputs": [
    {
     "data": {
      "text/plain": [
       "6"
      ]
     },
     "execution_count": 57,
     "metadata": {},
     "output_type": "execute_result"
    }
   ],
   "source": [
    "a = df.collect()\n",
    "len(a[1])"
   ]
  },
  {
   "cell_type": "code",
   "execution_count": 51,
   "metadata": {},
   "outputs": [
    {
     "name": "stdout",
     "output_type": "stream",
     "text": [
      "Numer probki to TCGA-A2-A0EU-01A-22D-A060-02\n"
     ]
    }
   ],
   "source": [
    "sample_number = df.orderBy(\"Sample\").head().asDict()[\"Sample\"] # Pobranie wartości do zmiennej\n",
    "print (f\"Numer probki to {sample_number}\")"
   ]
  },
  {
   "cell_type": "markdown",
   "metadata": {},
   "source": [
    "# Przeniesienie pliku na GCS"
   ]
  },
  {
   "cell_type": "code",
   "execution_count": null,
   "metadata": {},
   "outputs": [],
   "source": [
    "! gsutil cp ~/data/brca.txt gs://bucket-agaszmurlo  # upload obiektu do kubełka"
   ]
  }
 ],
 "metadata": {
  "kernelspec": {
   "display_name": "Python 3",
   "language": "python",
   "name": "python3"
  },
  "language_info": {
   "codemirror_mode": {
    "name": "ipython",
    "version": 3
   },
   "file_extension": ".py",
   "mimetype": "text/x-python",
   "name": "python",
   "nbconvert_exporter": "python",
   "pygments_lexer": "ipython3",
   "version": "3.6.10"
  },
  "notebook_test": {
   "keytab_path": "/data/work/home/ds-lab-testuser1/ds-lab-testuser1.keytab",
   "user": "ds-lab-testuser1"
  }
 },
 "nbformat": 4,
 "nbformat_minor": 4
}
