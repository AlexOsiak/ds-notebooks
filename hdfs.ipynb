{
 "cells": [
  {
   "cell_type": "markdown",
   "metadata": {},
   "source": [
    "# Zajęcia 1.\n",
    "\n",
    "Zakres:\n",
    "* zapoznanie sie z 2 srodowiskami pracy (klaster + Jupyter Notebook) oraz środowisko dostepne na GCP.\n",
    "* operacje na rozproszonym systemie plików HDFS\n",
    "* operacje na obiektowym systemie plików Google Storage\n",
    "* zapytania SQL na tabelach Sparkowych (Spark SQL)\n",
    "\n",
    "Języki:\n",
    "* bash, python, sql\n",
    "\n",
    "\n",
    "\n",
    "\n"
   ]
  },
  {
   "cell_type": "markdown",
   "metadata": {},
   "source": [
    "Krótka lista przydatnych poleceń bash:\n",
    "\n",
    "https://www.reddit.com/r/linux/comments/9rns12/some_linux_commands_cheatsheet/\n"
   ]
  },
  {
   "cell_type": "markdown",
   "metadata": {},
   "source": [
    "URL Jupyter na klastrze Instytutu Informatyki: https://zsibio.ii.pw.edu.pl/jupyter/\n",
    "\n",
    "\n",
    "## Klaster Hadoop\n",
    "\n",
    "edge node: cdh00 (węzeł dostępowy)\n",
    "\n",
    "HDFS:\n",
    "name node: cdh01\n",
    "data nodes: cdh02-cdh05\n",
    "\n",
    "YARN\n",
    "resource manager: cdh01\n",
    "node managers: cdh02-cdh05\n",
    "\n",
    "konsola administracyjna: http://cdh01:8080/\n",
    "\n",
    "Dystrybucja Hadoop: Hortonworks\n",
    "\n",
    "\n",
    "\n",
    "\n",
    "## Jupyter Notebook\n",
    "\n",
    "Interaktywny notatnik dostepny poprzez przeglądarkę.\n",
    "Służy do wpisywania poleceń w wybranych jezykach programowania oraz opis w tzw jezyku markdown.\n",
    "Tryb edycji + tryb poleceń. \n",
    "Podstawowe skróty klawiaturowe: \n",
    "* Esc/Enter\n",
    "* strzalki\n",
    "* ctrl-enter/shift-enter\n",
    "* a/b/d\n",
    "* y/m \n",
    "Notatnik zapisywany jest w formacie ipynb (IPythonNoteBook)\n",
    "\n",
    "Kolejnosc uruchomienia moze byc rozna.\n",
    "Mozliwosc zatrzymania kernela i uruchomienia od nowa. \n",
    "\n",
    "Polecamy film: https://www.youtube.com/watch?v=HW29067qVWk\n",
    "\n",
    "\n",
    "\n",
    "### Security\n",
    "Klaster jest zabezpieczony przed niepowolanym dostepem.\n",
    "Zazwyczaj dostep do klastra to: zalogowanie poprzez ssh do wezla dostepowego a potem wykonywanie polecen. \n",
    "My logujemy sie do Jupytera, w tle pobierany jest ticket dostepowy do odpowiednich zasobów klastra. Korzystajac ze zmiennych srodowiskowych i plikow konfiguracyjnych Jupyter wie jak polaczyc sie z menedzerem zasobow oraz namenodem HDFS.\n",
    "\n",
    "Dostep do Jupyter jest publiczny i po zajeciach mozna z niego korzystac.\n",
    "\n",
    "\n",
    "## Praca z rozproszonym systemem plików"
   ]
  },
  {
   "cell_type": "code",
   "execution_count": null,
   "metadata": {},
   "outputs": [],
   "source": [
    "import os\n",
    "user_name = os.environ.get('USER')\n",
    "print(user_name) "
   ]
  },
  {
   "cell_type": "markdown",
   "metadata": {},
   "source": [
    "## Kopiowanie danych do swojego HOME\n",
    "\n",
    "W katalogu `/data/local/datascience/data/` znajduje sie plik który bedzie nam dzisiaj słuzyl do pracy. Należy go skopiować do swojego katalogu domowego. \n"
   ]
  },
  {
   "cell_type": "code",
   "execution_count": null,
   "metadata": {},
   "outputs": [],
   "source": [
    "%%bash\n",
    "cd \n",
    "mkdir -p data\n",
    "cd data\n",
    "cp /data/local/datascience/data/brca.txt .\n",
    "ls\n"
   ]
  },
  {
   "cell_type": "code",
   "execution_count": null,
   "metadata": {},
   "outputs": [],
   "source": [
    "%%bash\n",
    "head data/brca.txt\n",
    "echo\n",
    "tail data/brca.txt\n",
    "echo\n",
    "wc -l data/brca.txt"
   ]
  },
  {
   "cell_type": "markdown",
   "metadata": {},
   "source": [
    "## HDFS\n",
    "Do tej pory korzystalismy z lokalnego systemu plików do ktorego ma dostep maszyna na ktora sie zalogowalismy (cdh00). Teraz zaczniemy korzystac z rozproszonego systemu plikow.\n",
    "\n",
    "Dla podstawowych polecen systemowych na plikach istnieja odpowiedniki polecen dla systemu HDFS\n",
    "* `ls` -> `hdfs dfs -ls`\n",
    "* `cp` -> `hdfs dfs -cp`\n",
    "* `mv` -> `hdfs dfs -mv`\n",
    "* `rm` -> `hdfs dfs -rm`\n",
    "\n",
    "Pełna lista poleceń znajduje się na www: https://hadoop.apache.org/docs/r2.4.1/hadoop-project-dist/hadoop-common/FileSystemShell.html\n",
    "\n",
    "### Listowanie swojego HOME na HDFS\n",
    "Każdy ma swoj katalog domowy na HDFS\n"
   ]
  },
  {
   "cell_type": "code",
   "execution_count": null,
   "metadata": {},
   "outputs": [],
   "source": [
    "! hdfs dfs -ls "
   ]
  },
  {
   "cell_type": "markdown",
   "metadata": {},
   "source": [
    "Swoj katalog mozna tez sprawdzic podajac sciezke bezwgledna od katalogu glownego"
   ]
  },
  {
   "cell_type": "code",
   "execution_count": null,
   "metadata": {},
   "outputs": [],
   "source": [
    "! hdfs dfs -ls /user/${USER}"
   ]
  },
  {
   "cell_type": "markdown",
   "metadata": {},
   "source": [
    "Sprawdzmy katalog glowny na HDFS"
   ]
  },
  {
   "cell_type": "code",
   "execution_count": null,
   "metadata": {},
   "outputs": [],
   "source": [
    "!hdfs dfs -ls "
   ]
  },
  {
   "cell_type": "markdown",
   "metadata": {},
   "source": [
    "### ZADANIE 1\n",
    "Korzystajac z analogii do polecen znanych z lokalnego sytemu pliku oraz z dokumentacji polecen dla HDFS stworz na HDFS katalog external a w nim katalog data w swoim podkatalogu domowym. Sprawdz foldery istnieją."
   ]
  },
  {
   "cell_type": "code",
   "execution_count": null,
   "metadata": {},
   "outputs": [],
   "source": [
    "%%bash\n",
    "hdfs dfs -mkdir -p /user/${USER}/external/data 2>/dev/null\n",
    "hdfs dfs -ls -R /user/${USER}/external/ 2>/dev/null"
   ]
  },
  {
   "cell_type": "markdown",
   "metadata": {},
   "source": [
    "### Dodanie pliku na HDFS"
   ]
  },
  {
   "cell_type": "code",
   "execution_count": null,
   "metadata": {},
   "outputs": [],
   "source": [
    "%%bash\n",
    "hdfs dfs -put data/brca.txt /user/${USER}/external/data\n",
    "hdfs dfs -ls /user/${USER}/external/data"
   ]
  },
  {
   "cell_type": "markdown",
   "metadata": {},
   "source": [
    "Jaki jest rozmiar pliku? Mozna skorzystac z przelacznika -h w ls"
   ]
  },
  {
   "cell_type": "code",
   "execution_count": null,
   "metadata": {},
   "outputs": [],
   "source": [
    "!hdfs dfs -ls -h /user/${USER}/external/data"
   ]
  },
  {
   "cell_type": "markdown",
   "metadata": {},
   "source": [
    "A calkowita wielkosc pliku? Polecenie `du`"
   ]
  },
  {
   "cell_type": "code",
   "execution_count": null,
   "metadata": {
    "scrolled": true
   },
   "outputs": [],
   "source": [
    "!hdfs dfs -du -h /user/${USER}/external/data/brca.txt"
   ]
  },
  {
   "cell_type": "markdown",
   "metadata": {},
   "source": [
    "Informacje o statusie pliku: polecenie `fsck`"
   ]
  },
  {
   "cell_type": "code",
   "execution_count": null,
   "metadata": {},
   "outputs": [],
   "source": [
    "!hdfs fsck /user/${USER}/external/data/brca.txt"
   ]
  },
  {
   "cell_type": "markdown",
   "metadata": {},
   "source": [
    "Plik mozna rowniez odczytac bezposrednio z HDFS:"
   ]
  },
  {
   "cell_type": "code",
   "execution_count": null,
   "metadata": {},
   "outputs": [],
   "source": [
    "! hdfs dfs -cat /user/${USER}/external/data/brca.txt | head "
   ]
  },
  {
   "cell_type": "markdown",
   "metadata": {},
   "source": [
    "### ZADANIE 2\n",
    "W swoim katalogu domowym stworz katalog external/temp. Skopiuj do niego plik brca.txt "
   ]
  },
  {
   "cell_type": "code",
   "execution_count": null,
   "metadata": {},
   "outputs": [],
   "source": [
    "%%bash\n",
    "hdfs dfs -mkdir -p /user/${USER}/external/temp\n",
    "hdfs dfs -cp /user/${USER}/external/data/brca.txt /user/${USER}/external/temp\n",
    "hdfs dfs -ls /user/${USER}/external/temp"
   ]
  },
  {
   "cell_type": "markdown",
   "metadata": {},
   "source": [
    "### Usuwanie i odzyskiwanie plikow\n",
    "\n",
    "Do usuwanie sluzy polecenie -rm. Domyslnie usuwany plik jest przesuwany do kosza, skad mozna go odzyskac. \n"
   ]
  },
  {
   "cell_type": "code",
   "execution_count": null,
   "metadata": {},
   "outputs": [],
   "source": [
    "%%bash\n",
    "hdfs dfs -rm /user/${USER}/external/temp/brca.txt\n",
    "hdfs dfs -ls /user/${USER}/external/temp/"
   ]
  },
  {
   "cell_type": "markdown",
   "metadata": {},
   "source": [
    "Dostalismy lokalizacje pliku z kosza, stamtad mozemy go skopiowac."
   ]
  },
  {
   "cell_type": "markdown",
   "metadata": {},
   "source": [
    "Do samodzielnej weryfikacji:\n",
    "* Przywrócenie pliku z kosza\n",
    "* Zachowanie polecenia rm przy podaniu parametru `skipTrash`."
   ]
  },
  {
   "cell_type": "markdown",
   "metadata": {},
   "source": [
    "### Zmiana uprawnień na katalogu/pliku\n"
   ]
  },
  {
   "cell_type": "code",
   "execution_count": null,
   "metadata": {},
   "outputs": [],
   "source": [
    "%%bash\n",
    "hdfs dfs -chmod -R 747 /user/${USER}/external/data/\n",
    "hdfs dfs -ls /user/${USER}/external/data/\n"
   ]
  },
  {
   "cell_type": "markdown",
   "metadata": {},
   "source": [
    "### Pobranie pliku z powrotem na lokalny dysk"
   ]
  },
  {
   "cell_type": "code",
   "execution_count": null,
   "metadata": {},
   "outputs": [],
   "source": [
    "!hdfs dfs -get /user/${USER}/external/data/brca.txt brca2.txt"
   ]
  },
  {
   "cell_type": "code",
   "execution_count": null,
   "metadata": {},
   "outputs": [],
   "source": [
    "!ls"
   ]
  },
  {
   "cell_type": "markdown",
   "metadata": {},
   "source": [
    "## Wykorzystanie Google Storage\n",
    "\n",
    "\n",
    "#### Projekt\n",
    "* Wszystki dane przynależą do konkretnego projektu.\n",
    "* Do projektu mogą mieć dostęp użytkownicy. \n",
    "* Projekt ma zdefiniowane metody uwierzytelniające, rozliczenia, monitorowanie etc. \n",
    "#### Kubełek (bucket)\n",
    "* Kubełek (buckjet) to kontener na pliki/obiekty. \n",
    "* Nazwa Bucketu musi być unikalna w skali całej usługi u wszystkich użytkowników (!) \n",
    "* Kubełków nie można zagnieżdzać\n",
    "* W kubełkach możemy tworzyć foldery i tam logicznie grupować pliki.\n",
    "* Kubełek wraz z zawartością może zostać udostępniony publicznie.\n",
    "* Kubełkowi nie można zmienić nazwy lub metadanych. Trzeba go usunąć i stworzyć ponownie.\n",
    "#### Obiekt \n",
    "* obiekty przechowywane w kubełkach \n",
    "* obiekty mają zawartość oraz metadane\n",
    "* obiekty są niemodyfikowalne \n",
    "\n",
    "Do operacji na Google Storage można wykorzystać narzędzie `gsutil`: \n",
    "\n",
    "##### Operacje na kubełkach\n",
    "* listowanie kubełków (buckets) - `ls`\n",
    "* tworzenie nowego kubełka - `mb`\n",
    "* usuwania kubełka - `rm`\n",
    "* listowanie zawartości kubełków - `ls` \n",
    "* udostępnianie - `iam`\n",
    "\n",
    "##### Operacje na obiektach\n",
    "* dodawania pliku do kubełka - `cp`\n",
    "* kopiowanie między kubełkami - `cp`\n",
    "* usuniecie z kubełka - `cp`\n",
    "* pobranie informacji o obiekcie - `stat`\n"
   ]
  },
  {
   "cell_type": "markdown",
   "metadata": {},
   "source": [
    "#### Operacje na kubełkach"
   ]
  },
  {
   "cell_type": "code",
   "execution_count": null,
   "metadata": {},
   "outputs": [],
   "source": [
    "! gsutil ls"
   ]
  },
  {
   "cell_type": "code",
   "execution_count": null,
   "metadata": {},
   "outputs": [],
   "source": [
    "! echo $JUPYTERHUB_USER  # wyswietlenie nazwy uzytkownika"
   ]
  },
  {
   "cell_type": "code",
   "execution_count": null,
   "metadata": {},
   "outputs": [],
   "source": [
    "! gsutil mb gs://ds_labs_$JUPYTERHUB_USER  # stworzenie bucketu"
   ]
  },
  {
   "cell_type": "code",
   "execution_count": null,
   "metadata": {},
   "outputs": [],
   "source": [
    "! gsutil ls -L -b gs://ds_labs_$JUPYTERHUB_USER # listowanie zawartości "
   ]
  },
  {
   "cell_type": "code",
   "execution_count": null,
   "metadata": {},
   "outputs": [],
   "source": [
    "! gsutil du -s  gs://ds_labs_$JUPYTERHUB_USER # ile zajmuje przestrzeni?"
   ]
  },
  {
   "cell_type": "markdown",
   "metadata": {},
   "source": [
    "#### Operacje na zawartości kubełków"
   ]
  },
  {
   "cell_type": "code",
   "execution_count": null,
   "metadata": {},
   "outputs": [],
   "source": [
    "! gsutil ls -r gs://ds_labs_$JUPYTERHUB_USER/ # listowanie zawartosci kubełka"
   ]
  },
  {
   "cell_type": "code",
   "execution_count": null,
   "metadata": {},
   "outputs": [],
   "source": [
    "! gsutil cp ~/ds-notebooks/README.md gs://ds_labs_$JUPYTERHUB_USER  # upload obiektu do kubełka"
   ]
  },
  {
   "cell_type": "code",
   "execution_count": null,
   "metadata": {},
   "outputs": [],
   "source": [
    "! gsutil ls -r gs://ds_labs_$JUPYTERHUB_USER # listowanie zawartości"
   ]
  },
  {
   "cell_type": "code",
   "execution_count": null,
   "metadata": {},
   "outputs": [],
   "source": [
    "! gsutil stat gs://ds_labs_$JUPYTERHUB_USER/README.md # metadane obiekty w kubełku"
   ]
  },
  {
   "cell_type": "code",
   "execution_count": null,
   "metadata": {},
   "outputs": [],
   "source": [
    "! gsutil iam ch allUsers:objectViewer gs://ds_labs_$JUPYTERHUB_USER # dodanie uprawnien do odczytu"
   ]
  },
  {
   "cell_type": "markdown",
   "metadata": {},
   "source": [
    "Po wykonaniu tego polecenia nasz kubełek staje się publiczny i możemy się do niego \n",
    "http://storage.googleapis.com/ds_labs_NAZWA_UZYTKOWNIKA. Zawartość pliku można odczytać poprzez http://storage.googleapis.com/ds_labs_NAZWA_UZYTKOWNIKA/NAZWA_OBIEKTU"
   ]
  },
  {
   "cell_type": "code",
   "execution_count": null,
   "metadata": {},
   "outputs": [],
   "source": [
    "! gsutil iam ch -d allUsers:objectViewer gs://ds_labs_$JUPYTERHUB_USER # usuniecie uprawnien do odczytu"
   ]
  },
  {
   "cell_type": "markdown",
   "metadata": {},
   "source": [
    "Teraz można ponownie zweryfikowac możliwość publicznego odczytu danych z kubełka."
   ]
  },
  {
   "cell_type": "markdown",
   "metadata": {},
   "source": [
    "#### Przeniesienie do docelowego kubełka"
   ]
  },
  {
   "cell_type": "code",
   "execution_count": null,
   "metadata": {},
   "outputs": [],
   "source": [
    "%%bash\n",
    "gsutil cp -r gs://ds_labs_$JUPYTERHUB_USER gs://DOCELOWY_BUCKET\n",
    "gsutil rm -r gs://ds_labs_$JUPYTERHUB_USER"
   ]
  }
 ],
 "metadata": {
  "kernelspec": {
   "display_name": "Python 3",
   "language": "python",
   "name": "python3"
  },
  "language_info": {
   "codemirror_mode": {
    "name": "ipython",
    "version": 3
   },
   "file_extension": ".py",
   "mimetype": "text/x-python",
   "name": "python",
   "nbconvert_exporter": "python",
   "pygments_lexer": "ipython3",
   "version": "3.8.5"
  },
  "notebook_test": {
   "keytab_path": "/data/work/home/ds-lab-testuser1/ds-lab-testuser1.keytab",
   "user": "ds-lab-testuser1"
  }
 },
 "nbformat": 4,
 "nbformat_minor": 4
}
