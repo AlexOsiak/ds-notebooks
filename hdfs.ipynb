{
 "cells": [
  {
   "cell_type": "markdown",
   "metadata": {},
   "source": [
    "# Zajęcia 1.\n",
    "\n",
    "Zakres:\n",
    "* zapoznanie sie z 2 srodowiskami pracy (klaster + Jupyter Notebook) oraz środowisko dostepne na GCP.\n",
    "* operacje na rozproszonym systemie plików HDFS\n",
    "* operacje na robiektowym systemie plików S3\n",
    "* zapytania SQL na tabelach Sparkowych (Spark SQL)\n",
    "\n",
    "Języki:\n",
    "* python, bash, sql\n",
    "\n",
    "\n",
    "\n",
    "\n"
   ]
  },
  {
   "cell_type": "markdown",
   "metadata": {},
   "source": [
    "Krótka lista przydatnych poleceń bash:\n",
    "\n",
    "https://www.reddit.com/r/linux/comments/9rns12/some_linux_commands_cheatsheet/\n"
   ]
  },
  {
   "cell_type": "markdown",
   "metadata": {},
   "source": [
    "URL Jupyter na klastrze Instytutu Informatyki: https://zsibio.ii.pw.edu.pl/jupyter/\n",
    "\n",
    "\n",
    "## Klaster \n",
    "\n",
    "edge node: cdh00 (węzeł dostępowy)\n",
    "\n",
    "HDFS:\n",
    "name node: cdh01\n",
    "data nodes: cdh02-cdh05\n",
    "\n",
    "YARN\n",
    "resource manager: cdh01\n",
    "node managers: cdh02-cdh05\n",
    "\n",
    "konsola administracyjna: http://cdh01:8080/\n",
    "\n",
    "Dystrybucja Hadoop: Hortonworks\n",
    "\n",
    "\n",
    "\n",
    "\n",
    "## Jupyter Notebook\n",
    "\n",
    "Interaktywny notatnik dostepny poprzez przeglądarkę.\n",
    "Służy do wpisywania poleceń w wybranych jezykach programowania oraz opis w tzw jezyku markdown.\n",
    "Tryb edycji + tryb poleceń. \n",
    "Podstawowe skróty klawiaturowe: \n",
    "* Esc/Enter\n",
    "* strzalki\n",
    "* ctrl-enter/shift-enter\n",
    "* a/b/d\n",
    "* y/m \n",
    "Notatnik zapisywany jest w formacie ipynb (IPythonNoteBook)\n",
    "\n",
    "Kolejnosc uruchomienia moze byc rozna.\n",
    "Mozliwosc zatrzymania kernela i uruchomienia od nowa. \n",
    "\n",
    "Polecamy film: https://www.youtube.com/watch?v=HW29067qVWk\n",
    "\n",
    "\n",
    "\n",
    "### Security\n",
    "Klaster jest zabezpieczony przed niepowolanym dostepem.\n",
    "Zazwyczaj dostep do klastra to: zalogowanie poprzez ssh do wezla dostepowego a potem wykonywanie polecen. \n",
    "My logujemy sie do Jupytera, w tle pobierany jest ticket dostepowy do odpowiednich zasobów klastra. Korzystajac ze zmiennych srodowiskowych i plikow konfiguracyjnych Jupyter wie jak polaczyc sie z menedzerem zasobow oraz namenodem HDFS.\n",
    "\n",
    "Dostep do Jupyter jest publiczny i po zajeciach mozna z niego korzystac.\n",
    "\n",
    "\n",
    "## Praca z rozproszonym systemem plików"
   ]
  },
  {
   "cell_type": "code",
   "execution_count": 1,
   "metadata": {},
   "outputs": [
    {
     "name": "stdout",
     "output_type": "stream",
     "text": [
      "iagasz\n"
     ]
    }
   ],
   "source": [
    "import os\n",
    "user_name = os.environ.get('USER')\n",
    "print(user_name) "
   ]
  },
  {
   "cell_type": "markdown",
   "metadata": {},
   "source": [
    "## Kopiowanie danych do swojego HOME\n",
    "\n",
    "W katalogu `/data/local/datascience/data/` znajduje sie plik który bedzie nam dzisiaj słuzyl do pracy. Należy go skopiować do swojego katalogu domowego. \n"
   ]
  },
  {
   "cell_type": "code",
   "execution_count": 2,
   "metadata": {},
   "outputs": [
    {
     "name": "stdout",
     "output_type": "stream",
     "text": [
      "brca.txt\n",
      "covid_19\n"
     ]
    }
   ],
   "source": [
    "%%bash\n",
    "cd \n",
    "mkdir -p data\n",
    "cd data\n",
    "cp /data/local/datascience/data/brca.txt .\n",
    "ls\n"
   ]
  },
  {
   "cell_type": "code",
   "execution_count": 3,
   "metadata": {},
   "outputs": [
    {
     "name": "stdout",
     "output_type": "stream",
     "text": [
      "Sample\tChromosome\tStart\tEnd\tNum_Probes\tSegment_Mean\n",
      "TCGA-A2-A0EU-10A-01D-A060-02\t1\t10209\t2583075\tNA\t-0.210121164888764\n",
      "TCGA-A2-A0EU-10A-01D-A060-02\t1\t2583076\t249240606\tNA\t-0.101789555120838\n",
      "TCGA-A2-A0EU-10A-01D-A060-02\t2\t10002\t243189359\tNA\t-0.337963741969504\n",
      "TCGA-A2-A0EU-10A-01D-A060-02\t3\t60175\t162511435\tNA\t-0.0850647472883194\n",
      "TCGA-A2-A0EU-10A-01D-A060-02\t3\t162511436\t162626067\tNA\t0.42309157125509\n",
      "TCGA-A2-A0EU-10A-01D-A060-02\t3\t162626068\t197962416\tNA\t-0.0962225847981023\n",
      "TCGA-A2-A0EU-10A-01D-A060-02\t4\t69223\t191014397\tNA\t-0.0713350286479217\n",
      "TCGA-A2-A0EU-10A-01D-A060-02\t5\t11770\t180905246\tNA\t0.176064461471459\n",
      "TCGA-A2-A0EU-10A-01D-A060-02\t6\t63815\t171050932\tNA\t-0.0895478602860139\n",
      "\n",
      "TCGA-BH-A0W5-01A-11D-A106-02\t16\t60001\t35285758\tNA\t0.50100860888744\n",
      "TCGA-BH-A0W5-01A-11D-A106-02\t16\t46499754\t90294729\tNA\t-0.131450478937173\n",
      "TCGA-BH-A0W5-01A-11D-A106-02\t17\t1\t81195162\tNA\t-0.0320031758392927\n",
      "TCGA-BH-A0W5-01A-11D-A106-02\t18\t10064\t78017233\tNA\t-0.0384891054622891\n",
      "TCGA-BH-A0W5-01A-11D-A106-02\t19\t70880\t59118869\tNA\t-0.0331290909268956\n",
      "TCGA-BH-A0W5-01A-11D-A106-02\t20\t60001\t62965506\tNA\t0.179080603196728\n",
      "TCGA-BH-A0W5-01A-11D-A106-02\t21\t9422166\t48119869\tNA\t-0.0398595055330951\n",
      "TCGA-BH-A0W5-01A-11D-A106-02\t22\t16051206\t51244552\tNA\t-0.289806046243246\n",
      "TCGA-BH-A0W5-01A-11D-A106-02\t23\t2699503\t116067549\tNA\t-0.00890538436141014\n",
      "TCGA-BH-A0W5-01A-11D-A106-02\t24\t2649450\t28784074\tNA\t0.0191845962231001\n",
      "\n",
      "5299 data/brca.txt\n"
     ]
    }
   ],
   "source": [
    "%%bash\n",
    "head data/brca.txt\n",
    "echo\n",
    "tail data/brca.txt\n",
    "echo\n",
    "wc -l data/brca.txt"
   ]
  },
  {
   "cell_type": "markdown",
   "metadata": {},
   "source": [
    "## HDFS\n",
    "Do tej pory korzystalismy z lokalnego systemu plików do ktorego ma dostep maszyna na ktora sie zalogowalismy (cdh00). Teraz zaczniemy korzystac z rozproszonego systemu plikow.\n",
    "\n",
    "Dla podstawowych polecen systemowych na plikach istnieja odpowiedniki polecen dla systemu HDFS\n",
    "* `ls` -> `hdfs dfs -ls`\n",
    "* `cp` -> `hdfs dfs -cp`\n",
    "* `mv` -> `hdfs dfs -mv`\n",
    "* `rm` -> `hdfs dfs -rm`\n",
    "\n",
    "Pełna lista poleceń znajduje się na www: https://hadoop.apache.org/docs/r2.4.1/hadoop-project-dist/hadoop-common/FileSystemShell.html\n",
    "\n",
    "### Listowanie swojego HOME na HDFS\n",
    "Każdy ma swoj katalog domowy na HDFS\n"
   ]
  },
  {
   "cell_type": "code",
   "execution_count": null,
   "metadata": {},
   "outputs": [],
   "source": [
    "! hdfs dfs -ls "
   ]
  },
  {
   "cell_type": "markdown",
   "metadata": {},
   "source": [
    "Swoj katalog mozna tez sprawdzic podajac sciezke bezwgledna od katalogu glownego"
   ]
  },
  {
   "cell_type": "code",
   "execution_count": null,
   "metadata": {},
   "outputs": [],
   "source": [
    "! hdfs dfs -ls /user/${USER}"
   ]
  },
  {
   "cell_type": "markdown",
   "metadata": {},
   "source": [
    "Sprawdzmy katalog glowny na HDFS"
   ]
  },
  {
   "cell_type": "code",
   "execution_count": null,
   "metadata": {},
   "outputs": [],
   "source": [
    "!hdfs dfs -ls "
   ]
  },
  {
   "cell_type": "markdown",
   "metadata": {},
   "source": [
    "### ZADANIE 1\n",
    "Korzystajac z analogii do polecen znanych z lokalnego sytemu pliku oraz z dokumentacji polecen dla HDFS stworz na HDFS katalog external a w nim katalog data w swoim podkatalogu domowym. Sprawdz foldery istnieją."
   ]
  },
  {
   "cell_type": "code",
   "execution_count": null,
   "metadata": {},
   "outputs": [],
   "source": [
    "%%bash\n",
    "hdfs dfs -mkdir -p /user/${USER}/external/data 2>/dev/null\n",
    "hdfs dfs -ls -R /user/${USER}/external/ 2>/dev/null"
   ]
  },
  {
   "cell_type": "markdown",
   "metadata": {},
   "source": [
    "### Dodanie pliku na HDFS"
   ]
  },
  {
   "cell_type": "code",
   "execution_count": null,
   "metadata": {},
   "outputs": [],
   "source": [
    "%%bash\n",
    "hdfs dfs -put data/brca.txt /user/${USER}/external/data\n",
    "hdfs dfs -ls /user/${USER}/external/data"
   ]
  },
  {
   "cell_type": "markdown",
   "metadata": {},
   "source": [
    "Jaki jest rozmiar pliku? Mozna skorzystac z przelacznika -h w ls"
   ]
  },
  {
   "cell_type": "code",
   "execution_count": null,
   "metadata": {},
   "outputs": [],
   "source": [
    "!hdfs dfs -ls -h /user/${USER}/external/data"
   ]
  },
  {
   "cell_type": "markdown",
   "metadata": {},
   "source": [
    "A calkowita wielkosc pliku? Polecenie `du`"
   ]
  },
  {
   "cell_type": "code",
   "execution_count": null,
   "metadata": {
    "scrolled": true
   },
   "outputs": [],
   "source": [
    "!hdfs dfs -du -h /user/${USER}/external/data/brca.txt"
   ]
  },
  {
   "cell_type": "markdown",
   "metadata": {},
   "source": [
    "Informacje o statusie pliku: polecenie `fsck`"
   ]
  },
  {
   "cell_type": "code",
   "execution_count": null,
   "metadata": {},
   "outputs": [],
   "source": [
    "!hdfs fsck /user/${USER}/external/data/brca.txt"
   ]
  },
  {
   "cell_type": "markdown",
   "metadata": {},
   "source": [
    "Plik mozna rowniez odczytac bezposrednio z HDFS:"
   ]
  },
  {
   "cell_type": "code",
   "execution_count": null,
   "metadata": {},
   "outputs": [],
   "source": [
    "! hdfs dfs -cat /user/${USER}/external/data/brca.txt | head "
   ]
  },
  {
   "cell_type": "markdown",
   "metadata": {},
   "source": [
    "### ZADANIE 2\n",
    "W swoim katalogu domowym stworz katalog external/temp. Skopiuj do niego plik brca.txt "
   ]
  },
  {
   "cell_type": "code",
   "execution_count": null,
   "metadata": {},
   "outputs": [],
   "source": [
    "%%bash\n",
    "hdfs dfs -mkdir -p /user/${USER}/external/temp\n",
    "hdfs dfs -cp /user/${USER}/external/data/brca.txt /user/${USER}/external/temp\n",
    "hdfs dfs -ls /user/${USER}/external/temp"
   ]
  },
  {
   "cell_type": "markdown",
   "metadata": {},
   "source": [
    "### Usuwanie i odzyskiwanie plikow\n",
    "\n",
    "Do usuwanie sluzy polecenie -rm. Domyslnie usuwany plik jest przesuwany do kosza, skad mozna go odzyskac. \n"
   ]
  },
  {
   "cell_type": "code",
   "execution_count": null,
   "metadata": {},
   "outputs": [],
   "source": [
    "%%bash\n",
    "hdfs dfs -rm /user/${USER}/external/temp/brca.txt\n",
    "hdfs dfs -ls /user/${USER}/external/temp/"
   ]
  },
  {
   "cell_type": "markdown",
   "metadata": {},
   "source": [
    "Dostalismy lokalizacje pliku z kosza, stamtad mozemy go skopiowac."
   ]
  },
  {
   "cell_type": "markdown",
   "metadata": {},
   "source": [
    "Do samodzielnej weryfikacji:\n",
    "* Przywrócenie pliku z kosza\n",
    "* Zachowanie polecenia rm przy podaniu parametru `skipTrash`."
   ]
  },
  {
   "cell_type": "markdown",
   "metadata": {},
   "source": [
    "### Zmiana uprawnień na katalogu/pliku\n"
   ]
  },
  {
   "cell_type": "code",
   "execution_count": null,
   "metadata": {},
   "outputs": [],
   "source": [
    "%%bash\n",
    "hdfs dfs -chmod -R 747 /user/${USER}/external/data/\n",
    "hdfs dfs -ls /user/${USER}/external/data/\n"
   ]
  },
  {
   "cell_type": "markdown",
   "metadata": {},
   "source": [
    "### Pobranie pliku z powrotem na lokalny dysk"
   ]
  },
  {
   "cell_type": "code",
   "execution_count": null,
   "metadata": {},
   "outputs": [],
   "source": [
    "!hdfs dfs -get /user/${USER}/external/data/brca.txt brca2.txt"
   ]
  },
  {
   "cell_type": "code",
   "execution_count": null,
   "metadata": {},
   "outputs": [],
   "source": [
    "!ls"
   ]
  },
  {
   "cell_type": "markdown",
   "metadata": {},
   "source": [
    "## Wprowadzenie do chmury\n",
    "\n",
    "Logowanie \n",
    "Podstawowe komendy\n",
    "\n",
    "(Na klastrze JupyterLab na chmurze Jupyter Hub)\n",
    "\n",
    "Pojęcie projektu."
   ]
  },
  {
   "cell_type": "markdown",
   "metadata": {},
   "source": [
    "Podstawowe polecenia narzędzie gsutil: \n",
    "\n",
    "Operacje na kubełkach\n",
    "* listowanie kubełków (buckets)\n",
    "* tworzenie nowego kubełka\n",
    "* usuwania kubełka\n",
    "* listowanie zawartości kubełków \n",
    "\n",
    "Operacje na zawartości kubełka\n",
    "* dodawania pliku do kubełka\n",
    "* kopiowanie między kubełkami\n",
    "* usuniecie z kubełka"
   ]
  },
  {
   "cell_type": "markdown",
   "metadata": {},
   "source": [
    "#### Operacje na kubełkach"
   ]
  },
  {
   "cell_type": "code",
   "execution_count": null,
   "metadata": {},
   "outputs": [],
   "source": [
    "! gsutil ls"
   ]
  },
  {
   "cell_type": "code",
   "execution_count": 9,
   "metadata": {},
   "outputs": [
    {
     "name": "stdout",
     "output_type": "stream",
     "text": [
      "Creating gs://test_iagasz/...\n",
      "You are attempting to perform an operation that requires a project id, with none configured. Please re-run gsutil config and make sure to follow the instructions for finding and entering your default project id.\n"
     ]
    }
   ],
   "source": [
    "! gsutil mb gs://test_$USER"
   ]
  },
  {
   "cell_type": "code",
   "execution_count": null,
   "metadata": {},
   "outputs": [],
   "source": []
  },
  {
   "cell_type": "code",
   "execution_count": 6,
   "metadata": {},
   "outputs": [
    {
     "name": "stdout",
     "output_type": "stream",
     "text": [
      "You are attempting to perform an operation that requires a project id, with none configured. Please re-run gsutil config and make sure to follow the instructions for finding and entering your default project id.\n"
     ]
    }
   ],
   "source": [
    "! gsutil ls -L -b gs://test_$USER"
   ]
  },
  {
   "cell_type": "code",
   "execution_count": null,
   "metadata": {},
   "outputs": [],
   "source": [
    "!gsutil du -s  gs://test_$USER"
   ]
  },
  {
   "cell_type": "markdown",
   "metadata": {},
   "source": [
    "#### Operacje na zawartości kubełków"
   ]
  },
  {
   "cell_type": "code",
   "execution_count": 11,
   "metadata": {},
   "outputs": [
    {
     "name": "stdout",
     "output_type": "stream",
     "text": [
      "BucketNotFoundException: 404 gs://test_iagasz bucket does not exist.\n"
     ]
    }
   ],
   "source": [
    "!gsutil ls -r gs://test_$USER/** # listowanie zawartosci kubełka"
   ]
  },
  {
   "cell_type": "code",
   "execution_count": 10,
   "metadata": {},
   "outputs": [
    {
     "name": "stdout",
     "output_type": "stream",
     "text": [
      "Copying file:///data/work/home/iagasz/genome.fa...\n",
      "Traceback (most recent call last):                                              \n",
      "  File \"/usr/lib/google-cloud-sdk/platform/gsutil/gsutil\", line 22, in <module>\n",
      "    gsutil.RunMain()\n",
      "  File \"/usr/lib/google-cloud-sdk/platform/gsutil/gsutil.py\", line 114, in RunMain\n",
      "    sys.exit(gslib.__main__.main())\n",
      "  File \"/usr/lib/google-cloud-sdk/platform/gsutil/gslib/__main__.py\", line 383, in main\n",
      "    perf_trace_token=perf_trace_token)\n",
      "  File \"/usr/lib/google-cloud-sdk/platform/gsutil/gslib/__main__.py\", line 577, in _RunNamedCommandAndHandleExceptions\n",
      "    collect_analytics=True)\n",
      "  File \"/usr/lib/google-cloud-sdk/platform/gsutil/gslib/command_runner.py\", line 317, in RunNamedCommand\n",
      "    return_code = command_inst.RunCommand()\n",
      "  File \"/usr/lib/google-cloud-sdk/platform/gsutil/gslib/commands/cp.py\", line 1139, in RunCommand\n",
      "    seek_ahead_iterator=seek_ahead_iterator)\n",
      "  File \"/usr/lib/google-cloud-sdk/platform/gsutil/gslib/command.py\", line 1368, in Apply\n",
      "    arg_checker, should_return_results, fail_on_error)\n",
      "  File \"/usr/lib/google-cloud-sdk/platform/gsutil/gslib/command.py\", line 1439, in _SequentialApply\n",
      "    worker_thread.PerformTask(task, self)\n",
      "  File \"/usr/lib/google-cloud-sdk/platform/gsutil/gslib/command.py\", line 2100, in PerformTask\n",
      "    results = task.func(cls, task.args, thread_state=self.thread_gsutil_api)\n",
      "  File \"/usr/lib/google-cloud-sdk/platform/gsutil/gslib/commands/cp.py\", line 753, in _CopyFuncWrapper\n",
      "    preserve_posix=cls.preserve_posix_attrs)\n",
      "  File \"/usr/lib/google-cloud-sdk/platform/gsutil/gslib/commands/cp.py\", line 947, in CopyFunc\n",
      "    preserve_posix=preserve_posix))\n",
      "  File \"/usr/lib/google-cloud-sdk/platform/gsutil/gslib/copy_helper.py\", line 3313, in PerformCopy\n",
      "    src_obj_metadata=src_obj_metadata)\n",
      "  File \"/usr/lib/google-cloud-sdk/platform/gsutil/gslib/copy_helper.py\", line 2794, in _CopyFileToFile\n",
      "    with open(dst_url.object_name, 'wb') as dst_fp:\n",
      "IOError: [Errno 21] Is a directory: u'gs:/test_iagasz/'\n"
     ]
    }
   ],
   "source": [
    "!gsutil cp ~/genome.fa gs:/test_$USER/  # upload obiektu do kubełka"
   ]
  },
  {
   "cell_type": "code",
   "execution_count": 12,
   "metadata": {},
   "outputs": [
    {
     "name": "stdout",
     "output_type": "stream",
     "text": [
      "No URLs matched: gs://test_iagasz/genome.fa"
     ]
    }
   ],
   "source": [
    "! gsutil stat gs://test_$USER/genome.fa # metadane obiekty w kubełku"
   ]
  },
  {
   "cell_type": "markdown",
   "metadata": {},
   "source": [
    "#### Przeniesienie do docelowego kubełka"
   ]
  },
  {
   "cell_type": "code",
   "execution_count": 14,
   "metadata": {},
   "outputs": [
    {
     "name": "stderr",
     "output_type": "stream",
     "text": [
      "BucketNotFoundException: 404 gs://test_iagasz bucket does not exist.\n",
      "BucketNotFoundException: 404 gs://test_iagasz bucket does not exist.\n"
     ]
    },
    {
     "ename": "CalledProcessError",
     "evalue": "Command 'b'gsutil cp -r gs://test_$USER/* gs://DESTINATION_BUCKET\\ngsutil rm -r gs://test_$USER\\n'' returned non-zero exit status 1.",
     "output_type": "error",
     "traceback": [
      "\u001b[0;31m---------------------------------------------------------------------------\u001b[0m",
      "\u001b[0;31mCalledProcessError\u001b[0m                        Traceback (most recent call last)",
      "\u001b[0;32m<ipython-input-14-39a8efb8b809>\u001b[0m in \u001b[0;36m<module>\u001b[0;34m\u001b[0m\n\u001b[0;32m----> 1\u001b[0;31m \u001b[0mget_ipython\u001b[0m\u001b[0;34m(\u001b[0m\u001b[0;34m)\u001b[0m\u001b[0;34m.\u001b[0m\u001b[0mrun_cell_magic\u001b[0m\u001b[0;34m(\u001b[0m\u001b[0;34m'bash'\u001b[0m\u001b[0;34m,\u001b[0m \u001b[0;34m''\u001b[0m\u001b[0;34m,\u001b[0m \u001b[0;34m'gsutil cp -r gs://test_$USER/* gs://DESTINATION_BUCKET\\ngsutil rm -r gs://test_$USER\\n'\u001b[0m\u001b[0;34m)\u001b[0m\u001b[0;34m\u001b[0m\u001b[0;34m\u001b[0m\u001b[0m\n\u001b[0m",
      "\u001b[0;32m/data/work/edu/seq-edu/lib/python3.6/site-packages/IPython/core/interactiveshell.py\u001b[0m in \u001b[0;36mrun_cell_magic\u001b[0;34m(self, magic_name, line, cell)\u001b[0m\n\u001b[1;32m   2350\u001b[0m             \u001b[0;32mwith\u001b[0m \u001b[0mself\u001b[0m\u001b[0;34m.\u001b[0m\u001b[0mbuiltin_trap\u001b[0m\u001b[0;34m:\u001b[0m\u001b[0;34m\u001b[0m\u001b[0;34m\u001b[0m\u001b[0m\n\u001b[1;32m   2351\u001b[0m                 \u001b[0margs\u001b[0m \u001b[0;34m=\u001b[0m \u001b[0;34m(\u001b[0m\u001b[0mmagic_arg_s\u001b[0m\u001b[0;34m,\u001b[0m \u001b[0mcell\u001b[0m\u001b[0;34m)\u001b[0m\u001b[0;34m\u001b[0m\u001b[0;34m\u001b[0m\u001b[0m\n\u001b[0;32m-> 2352\u001b[0;31m                 \u001b[0mresult\u001b[0m \u001b[0;34m=\u001b[0m \u001b[0mfn\u001b[0m\u001b[0;34m(\u001b[0m\u001b[0;34m*\u001b[0m\u001b[0margs\u001b[0m\u001b[0;34m,\u001b[0m \u001b[0;34m**\u001b[0m\u001b[0mkwargs\u001b[0m\u001b[0;34m)\u001b[0m\u001b[0;34m\u001b[0m\u001b[0;34m\u001b[0m\u001b[0m\n\u001b[0m\u001b[1;32m   2353\u001b[0m             \u001b[0;32mreturn\u001b[0m \u001b[0mresult\u001b[0m\u001b[0;34m\u001b[0m\u001b[0;34m\u001b[0m\u001b[0m\n\u001b[1;32m   2354\u001b[0m \u001b[0;34m\u001b[0m\u001b[0m\n",
      "\u001b[0;32m/data/work/edu/seq-edu/lib/python3.6/site-packages/IPython/core/magics/script.py\u001b[0m in \u001b[0;36mnamed_script_magic\u001b[0;34m(line, cell)\u001b[0m\n\u001b[1;32m    140\u001b[0m             \u001b[0;32melse\u001b[0m\u001b[0;34m:\u001b[0m\u001b[0;34m\u001b[0m\u001b[0;34m\u001b[0m\u001b[0m\n\u001b[1;32m    141\u001b[0m                 \u001b[0mline\u001b[0m \u001b[0;34m=\u001b[0m \u001b[0mscript\u001b[0m\u001b[0;34m\u001b[0m\u001b[0;34m\u001b[0m\u001b[0m\n\u001b[0;32m--> 142\u001b[0;31m             \u001b[0;32mreturn\u001b[0m \u001b[0mself\u001b[0m\u001b[0;34m.\u001b[0m\u001b[0mshebang\u001b[0m\u001b[0;34m(\u001b[0m\u001b[0mline\u001b[0m\u001b[0;34m,\u001b[0m \u001b[0mcell\u001b[0m\u001b[0;34m)\u001b[0m\u001b[0;34m\u001b[0m\u001b[0;34m\u001b[0m\u001b[0m\n\u001b[0m\u001b[1;32m    143\u001b[0m \u001b[0;34m\u001b[0m\u001b[0m\n\u001b[1;32m    144\u001b[0m         \u001b[0;31m# write a basic docstring:\u001b[0m\u001b[0;34m\u001b[0m\u001b[0;34m\u001b[0m\u001b[0;34m\u001b[0m\u001b[0m\n",
      "\u001b[0;32m</data/work/edu/seq-edu/lib/python3.6/site-packages/decorator.py:decorator-gen-110>\u001b[0m in \u001b[0;36mshebang\u001b[0;34m(self, line, cell)\u001b[0m\n",
      "\u001b[0;32m/data/work/edu/seq-edu/lib/python3.6/site-packages/IPython/core/magic.py\u001b[0m in \u001b[0;36m<lambda>\u001b[0;34m(f, *a, **k)\u001b[0m\n\u001b[1;32m    185\u001b[0m     \u001b[0;31m# but it's overkill for just that one bit of state.\u001b[0m\u001b[0;34m\u001b[0m\u001b[0;34m\u001b[0m\u001b[0;34m\u001b[0m\u001b[0m\n\u001b[1;32m    186\u001b[0m     \u001b[0;32mdef\u001b[0m \u001b[0mmagic_deco\u001b[0m\u001b[0;34m(\u001b[0m\u001b[0marg\u001b[0m\u001b[0;34m)\u001b[0m\u001b[0;34m:\u001b[0m\u001b[0;34m\u001b[0m\u001b[0;34m\u001b[0m\u001b[0m\n\u001b[0;32m--> 187\u001b[0;31m         \u001b[0mcall\u001b[0m \u001b[0;34m=\u001b[0m \u001b[0;32mlambda\u001b[0m \u001b[0mf\u001b[0m\u001b[0;34m,\u001b[0m \u001b[0;34m*\u001b[0m\u001b[0ma\u001b[0m\u001b[0;34m,\u001b[0m \u001b[0;34m**\u001b[0m\u001b[0mk\u001b[0m\u001b[0;34m:\u001b[0m \u001b[0mf\u001b[0m\u001b[0;34m(\u001b[0m\u001b[0;34m*\u001b[0m\u001b[0ma\u001b[0m\u001b[0;34m,\u001b[0m \u001b[0;34m**\u001b[0m\u001b[0mk\u001b[0m\u001b[0;34m)\u001b[0m\u001b[0;34m\u001b[0m\u001b[0;34m\u001b[0m\u001b[0m\n\u001b[0m\u001b[1;32m    188\u001b[0m \u001b[0;34m\u001b[0m\u001b[0m\n\u001b[1;32m    189\u001b[0m         \u001b[0;32mif\u001b[0m \u001b[0mcallable\u001b[0m\u001b[0;34m(\u001b[0m\u001b[0marg\u001b[0m\u001b[0;34m)\u001b[0m\u001b[0;34m:\u001b[0m\u001b[0;34m\u001b[0m\u001b[0;34m\u001b[0m\u001b[0m\n",
      "\u001b[0;32m/data/work/edu/seq-edu/lib/python3.6/site-packages/IPython/core/magics/script.py\u001b[0m in \u001b[0;36mshebang\u001b[0;34m(self, line, cell)\u001b[0m\n\u001b[1;32m    243\u001b[0m             \u001b[0msys\u001b[0m\u001b[0;34m.\u001b[0m\u001b[0mstderr\u001b[0m\u001b[0;34m.\u001b[0m\u001b[0mflush\u001b[0m\u001b[0;34m(\u001b[0m\u001b[0;34m)\u001b[0m\u001b[0;34m\u001b[0m\u001b[0;34m\u001b[0m\u001b[0m\n\u001b[1;32m    244\u001b[0m         \u001b[0;32mif\u001b[0m \u001b[0margs\u001b[0m\u001b[0;34m.\u001b[0m\u001b[0mraise_error\u001b[0m \u001b[0;32mand\u001b[0m \u001b[0mp\u001b[0m\u001b[0;34m.\u001b[0m\u001b[0mreturncode\u001b[0m\u001b[0;34m!=\u001b[0m\u001b[0;36m0\u001b[0m\u001b[0;34m:\u001b[0m\u001b[0;34m\u001b[0m\u001b[0;34m\u001b[0m\u001b[0m\n\u001b[0;32m--> 245\u001b[0;31m             \u001b[0;32mraise\u001b[0m \u001b[0mCalledProcessError\u001b[0m\u001b[0;34m(\u001b[0m\u001b[0mp\u001b[0m\u001b[0;34m.\u001b[0m\u001b[0mreturncode\u001b[0m\u001b[0;34m,\u001b[0m \u001b[0mcell\u001b[0m\u001b[0;34m,\u001b[0m \u001b[0moutput\u001b[0m\u001b[0;34m=\u001b[0m\u001b[0mout\u001b[0m\u001b[0;34m,\u001b[0m \u001b[0mstderr\u001b[0m\u001b[0;34m=\u001b[0m\u001b[0merr\u001b[0m\u001b[0;34m)\u001b[0m\u001b[0;34m\u001b[0m\u001b[0;34m\u001b[0m\u001b[0m\n\u001b[0m\u001b[1;32m    246\u001b[0m \u001b[0;34m\u001b[0m\u001b[0m\n\u001b[1;32m    247\u001b[0m     \u001b[0;32mdef\u001b[0m \u001b[0m_run_script\u001b[0m\u001b[0;34m(\u001b[0m\u001b[0mself\u001b[0m\u001b[0;34m,\u001b[0m \u001b[0mp\u001b[0m\u001b[0;34m,\u001b[0m \u001b[0mcell\u001b[0m\u001b[0;34m,\u001b[0m \u001b[0mto_close\u001b[0m\u001b[0;34m)\u001b[0m\u001b[0;34m:\u001b[0m\u001b[0;34m\u001b[0m\u001b[0;34m\u001b[0m\u001b[0m\n",
      "\u001b[0;31mCalledProcessError\u001b[0m: Command 'b'gsutil cp -r gs://test_$USER/* gs://DESTINATION_BUCKET\\ngsutil rm -r gs://test_$USER\\n'' returned non-zero exit status 1."
     ]
    }
   ],
   "source": [
    "%%bash\n",
    "gsutil cp -r gs://test_$USER/* gs://DESTINATION_BUCKET\n",
    "gsutil rm -r gs://test_$USER"
   ]
  }
 ],
 "metadata": {
  "kernelspec": {
   "display_name": "Python 3",
   "language": "python",
   "name": "python3"
  },
  "language_info": {
   "codemirror_mode": {
    "name": "ipython",
    "version": 3
   },
   "file_extension": ".py",
   "mimetype": "text/x-python",
   "name": "python",
   "nbconvert_exporter": "python",
   "pygments_lexer": "ipython3",
   "version": "3.6.10"
  },
  "notebook_test": {
   "keytab_path": "/data/work/home/ds-lab-testuser1/ds-lab-testuser1.keytab",
   "user": "ds-lab-testuser1"
  }
 },
 "nbformat": 4,
 "nbformat_minor": 4
}
